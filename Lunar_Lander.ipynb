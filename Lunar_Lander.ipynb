{
  "nbformat": 4,
  "nbformat_minor": 0,
  "metadata": {
    "colab": {
      "provenance": [],
      "authorship_tag": "ABX9TyM2ckKT1MvNEDdf/CYpFYK/",
      "include_colab_link": true
    },
    "kernelspec": {
      "name": "python3",
      "display_name": "Python 3"
    },
    "language_info": {
      "name": "python"
    }
  },
  "cells": [
    {
      "cell_type": "markdown",
      "metadata": {
        "id": "view-in-github",
        "colab_type": "text"
      },
      "source": [
        "<a href=\"https://colab.research.google.com/github/AkshitSingh11/Lunar-Lander/blob/main/Lunar_Lander.ipynb\" target=\"_parent\"><img src=\"https://colab.research.google.com/assets/colab-badge.svg\" alt=\"Open In Colab\"/></a>"
      ]
    },
    {
      "cell_type": "markdown",
      "source": [
        "# Installing the required packages and importing the libraries"
      ],
      "metadata": {
        "id": "rpyhpEaYYuPA"
      }
    },
    {
      "cell_type": "markdown",
      "source": [
        "## Installing Gymnasium"
      ],
      "metadata": {
        "id": "7ij2xb_iY93U"
      }
    },
    {
      "cell_type": "code",
      "source": [
        "!pip install gymnasium\n",
        "!pip install \"gymnasium[atari, accept-rom-license]\"\n",
        "!apt-get install -y swig\n",
        "!pip install gymnasium[box2d]"
      ],
      "metadata": {
        "id": "9spT_oWxZHcu",
        "colab": {
          "base_uri": "https://localhost:8080/"
        },
        "outputId": "0501238b-b032-4049-9202-47d532618760"
      },
      "execution_count": 1,
      "outputs": [
        {
          "output_type": "stream",
          "name": "stdout",
          "text": [
            "Requirement already satisfied: gymnasium in /usr/local/lib/python3.10/dist-packages (1.0.0)\n",
            "Requirement already satisfied: numpy>=1.21.0 in /usr/local/lib/python3.10/dist-packages (from gymnasium) (1.26.4)\n",
            "Requirement already satisfied: cloudpickle>=1.2.0 in /usr/local/lib/python3.10/dist-packages (from gymnasium) (2.2.1)\n",
            "Requirement already satisfied: typing-extensions>=4.3.0 in /usr/local/lib/python3.10/dist-packages (from gymnasium) (4.12.2)\n",
            "Requirement already satisfied: farama-notifications>=0.0.1 in /usr/local/lib/python3.10/dist-packages (from gymnasium) (0.0.4)\n",
            "Requirement already satisfied: gymnasium[accept-rom-license,atari] in /usr/local/lib/python3.10/dist-packages (1.0.0)\n",
            "\u001b[33mWARNING: gymnasium 1.0.0 does not provide the extra 'accept-rom-license'\u001b[0m\u001b[33m\n",
            "\u001b[0mRequirement already satisfied: numpy>=1.21.0 in /usr/local/lib/python3.10/dist-packages (from gymnasium[accept-rom-license,atari]) (1.26.4)\n",
            "Requirement already satisfied: cloudpickle>=1.2.0 in /usr/local/lib/python3.10/dist-packages (from gymnasium[accept-rom-license,atari]) (2.2.1)\n",
            "Requirement already satisfied: typing-extensions>=4.3.0 in /usr/local/lib/python3.10/dist-packages (from gymnasium[accept-rom-license,atari]) (4.12.2)\n",
            "Requirement already satisfied: farama-notifications>=0.0.1 in /usr/local/lib/python3.10/dist-packages (from gymnasium[accept-rom-license,atari]) (0.0.4)\n",
            "Requirement already satisfied: ale-py>=0.9 in /usr/local/lib/python3.10/dist-packages (from gymnasium[accept-rom-license,atari]) (0.10.1)\n",
            "Reading package lists... Done\n",
            "Building dependency tree... Done\n",
            "Reading state information... Done\n",
            "swig is already the newest version (4.0.2-1ubuntu1).\n",
            "0 upgraded, 0 newly installed, 0 to remove and 49 not upgraded.\n",
            "Requirement already satisfied: gymnasium[box2d] in /usr/local/lib/python3.10/dist-packages (1.0.0)\n",
            "Requirement already satisfied: numpy>=1.21.0 in /usr/local/lib/python3.10/dist-packages (from gymnasium[box2d]) (1.26.4)\n",
            "Requirement already satisfied: cloudpickle>=1.2.0 in /usr/local/lib/python3.10/dist-packages (from gymnasium[box2d]) (2.2.1)\n",
            "Requirement already satisfied: typing-extensions>=4.3.0 in /usr/local/lib/python3.10/dist-packages (from gymnasium[box2d]) (4.12.2)\n",
            "Requirement already satisfied: farama-notifications>=0.0.1 in /usr/local/lib/python3.10/dist-packages (from gymnasium[box2d]) (0.0.4)\n",
            "Requirement already satisfied: box2d-py==2.3.5 in /usr/local/lib/python3.10/dist-packages (from gymnasium[box2d]) (2.3.5)\n",
            "Requirement already satisfied: pygame>=2.1.3 in /usr/local/lib/python3.10/dist-packages (from gymnasium[box2d]) (2.6.1)\n",
            "Requirement already satisfied: swig==4.* in /usr/local/lib/python3.10/dist-packages (from gymnasium[box2d]) (4.2.1)\n"
          ]
        }
      ]
    },
    {
      "cell_type": "markdown",
      "source": [
        "## Importing the libraries"
      ],
      "metadata": {
        "id": "lbSRVn6QZLYN"
      }
    },
    {
      "cell_type": "code",
      "source": [
        "import os\n",
        "import random\n",
        "import numpy as np\n",
        "import torch\n",
        "import torch.nn as nn\n",
        "import torch.optim as optim\n",
        "import torch.nn.functional as F\n",
        "import torch.autograd as autograd\n",
        "from torch.autograd import Variable\n",
        "from collections import deque, namedtuple\n",
        "import gymnasium as gym"
      ],
      "metadata": {
        "id": "n0fXxBYHZPza"
      },
      "execution_count": 2,
      "outputs": []
    },
    {
      "cell_type": "markdown",
      "source": [
        "# Building the AI"
      ],
      "metadata": {
        "id": "WvTVFksnaqUq"
      }
    },
    {
      "cell_type": "markdown",
      "source": [
        "**Observational Space** :-<br> The state is an 8-dimensional vector: the coordinates of the lander in x & y, its linear velocities in x & y, its angle, its angular velocity, and two booleans that represent whether each leg is in contact with the ground or not.\n",
        "<br>\n",
        "**Action Space** :-<br> There are four discrete actions available:<br>\n",
        "0: do nothing<br>\n",
        "1: fire left orientation engine<br>\n",
        "2: fire main engine<br>\n",
        "3: fire right orientation engine<br>\n",
        "**Rewards**:-<br>\n",
        "For each step, the reward:<br>\n",
        "1) is increased/decreased the closer/further the lander is to the landing pad.<br>\n",
        "2) is increased/decreased the slower/faster the lander is moving.<br>\n",
        "3) is decreased the more the lander is tilted (angle not horizontal).<br>\n",
        "4) is increased by 10 points for each leg that is in contact with the ground.<br>\n",
        "5) is decreased by 0.03 points each frame a side engine is firing.<br>\n",
        "6) is decreased by 0.3 points each frame the main engine is firing.<br>\n",
        "\n"
      ],
      "metadata": {
        "id": "8Db8ShrIbVbe"
      }
    },
    {
      "cell_type": "markdown",
      "source": [
        "## Creating the architecture of the Neural Network\n"
      ],
      "metadata": {
        "id": "-kNkXjieazfz"
      }
    },
    {
      "cell_type": "code",
      "source": [
        "class Network(nn.Module):\n",
        "\n",
        "  def __init__(self, state_size, action_size, seed =42):\n",
        "    super(Network, self).__init__()\n",
        "    self.seed = torch.manual_seed(seed)\n",
        "    self.fc1 = nn.Linear(state_size, 64)\n",
        "    self.fc2 = nn.Linear(64, 64)\n",
        "    self.fc3 = nn.Linear(64, action_size)\n",
        "\n",
        "  def forward(self, state):\n",
        "    x = self.fc1(state)\n",
        "    x = F.relu(x)\n",
        "    x = self.fc2(x)\n",
        "    x = F.relu(x)\n",
        "    return self.fc3(x)"
      ],
      "metadata": {
        "id": "ggXYTrEca3e2"
      },
      "execution_count": 3,
      "outputs": []
    },
    {
      "cell_type": "markdown",
      "source": [
        "# Training the AI"
      ],
      "metadata": {
        "id": "DjZZk0eScxhD"
      }
    },
    {
      "cell_type": "markdown",
      "source": [
        "## Setting up the Environment"
      ],
      "metadata": {
        "id": "VykCs9wPczLl"
      }
    },
    {
      "cell_type": "code",
      "source": [
        "env = gym.make('LunarLander-v3')\n",
        "state_shape = env.observation_space.shape\n",
        "state_size = env.observation_space.shape[0]\n",
        "number_actions = env.action_space.n"
      ],
      "metadata": {
        "id": "-65Rv-Moc4Lq"
      },
      "execution_count": 4,
      "outputs": []
    },
    {
      "cell_type": "code",
      "source": [
        "print('State shape: ',state_shape)\n",
        "print('State size: ',state_size)\n",
        "print('Number of actions: ',number_actions)"
      ],
      "metadata": {
        "id": "hLmYHWhoc7iB",
        "colab": {
          "base_uri": "https://localhost:8080/"
        },
        "outputId": "c41f3acf-32c2-418b-ff1e-565c2722612d"
      },
      "execution_count": 5,
      "outputs": [
        {
          "output_type": "stream",
          "name": "stdout",
          "text": [
            "State shape:  (8,)\n",
            "State size:  8\n",
            "Number of actions:  4\n"
          ]
        }
      ]
    },
    {
      "cell_type": "markdown",
      "source": [
        "## Initializing the hyperparameters"
      ],
      "metadata": {
        "id": "c4bCY-lxdAuK"
      }
    },
    {
      "cell_type": "code",
      "source": [
        "learning_rate = 5e-4\n",
        "minibatch_size = 100       # Over this many experiences at a time, our agent will learn\n",
        "discount_factor = 0.99\n",
        "replay_buffer_size = int(1e5)    # Size of memory to store experiences\n",
        "interpolation_parameter = 1e-3"
      ],
      "metadata": {
        "id": "OvUuHW8ZdFVg"
      },
      "execution_count": 6,
      "outputs": []
    },
    {
      "cell_type": "markdown",
      "source": [
        "##Implementing Experience Replay"
      ],
      "metadata": {
        "id": "dcREviPadwlA"
      }
    },
    {
      "cell_type": "code",
      "source": [
        "class ReplayMemory(object):\n",
        "\n",
        "  def __init__(self,capacity):\n",
        "    self.device = torch.device(\"cuda:0\" if torch.cuda.is_available() else \"cpu\")\n",
        "    self.capacity = capacity\n",
        "    self.memory = []      # Store experiences\n",
        "\n",
        "  # Function to store experience\n",
        "  def push(self, event):\n",
        "    self.memory.append(event)\n",
        "    if len(self.memory) > self.capacity:\n",
        "      del self.memory[0]\n",
        "\n",
        "  # Function to return a sample of a certain size\n",
        "  def sample(self, batch_size):\n",
        "    experiences = random.sample(self.memory, k=batch_size)\n",
        "    states = torch.from_numpy(np.vstack([e[0] for e in experiences if e is not None])).float().to(self.device)\n",
        "    actions = torch.from_numpy(np.vstack([e[1] for e in experiences if e is not None])).long().to(self.device)\n",
        "    rewards = torch.from_numpy(np.vstack([e[2] for e in experiences if e is not None])).float().to(self.device)\n",
        "    next_states = torch.from_numpy(np.vstack([e[3] for e in experiences if e is not None])).float().to(self.device)\n",
        "    dones = torch.from_numpy(np.vstack([e[4] for e in experiences if e is not None]).astype(np.uint8)).float().to(self.device)      # If the ander has landed or not\n",
        "    return states, next_states, actions, rewards, dones"
      ],
      "metadata": {
        "id": "tiVA-PmGd1KM"
      },
      "execution_count": 7,
      "outputs": []
    },
    {
      "cell_type": "markdown",
      "source": [
        "## Implementing the DQN class"
      ],
      "metadata": {
        "id": "-p4p49bufqqQ"
      }
    },
    {
      "cell_type": "code",
      "source": [
        "class Agent():\n",
        "\n",
        "  def __init__(self, state_size,action_size):\n",
        "    self.device = torch.device(\"cuda:0\" if torch.cuda.is_available() else \"cpu\")\n",
        "    self.state_size = state_size\n",
        "    self.action_size = action_size\n",
        "    self.local_qnetwork = Network(state_size, action_size).to(self.device)\n",
        "    self.target_qnetwork = Network(state_size, action_size).to(self.device)    # to stabilise learning process\n",
        "    self.optimizer = optim.Adam(self.local_qnetwork.parameters(), lr= learning_rate)\n",
        "    self.memory = ReplayMemory(replay_buffer_size)\n",
        "    self.t_step = 0     # To keep count of step at which we will update the network parameters\n",
        "\n",
        "  def step(self, state,action,reward,next_state,done):\n",
        "    self.memory.push((state,action,reward,next_state,done))\n",
        "    self.t_step = (self.t_step +1)% 4      #Learn after every 4 steps\n",
        "    if self.t_step ==0:\n",
        "      if len(self.memory.memory) > minibatch_size:\n",
        "        experiences = self.memory.sample(100)\n",
        "        self.learn(experiences, discount_factor)\n",
        "\n",
        "  # Using epsilon greedy action selection\n",
        "  def act(self, state, epsilon =0.):\n",
        "    state  = torch.from_numpy(state).float().unsqueeze(0).to(self.device)\n",
        "    self.local_qnetwork.eval()\n",
        "    with torch.no_grad():\n",
        "      action_values = self.local_qnetwork(state)\n",
        "    self.local_qnetwork.train()\n",
        "    if random.random() >epsilon:\n",
        "      return np.argmax(action_values.cpu().data.numpy())\n",
        "    else:\n",
        "      return random.choice(np.arange(self.action_size))\n",
        "\n",
        "  def learn(self, experiences, discount_factor):\n",
        "    states, next_states, actions, rewards, dones = experiences\n",
        "    next_q_targets = self.target_qnetwork(next_states).detach().max(1)[0].unsqueeze(1)\n",
        "    q_targets = rewards + (discount_factor * next_q_targets * (1 - dones))\n",
        "    q_expected = self.local_qnetwork(states).gather(1,actions)\n",
        "    loss = F.mse_loss(q_expected, q_targets)\n",
        "    self.optimizer.zero_grad()\n",
        "    loss.backward()\n",
        "    self.optimizer.step()\n",
        "    self.soft_update(self.local_qnetwork, self.target_qnetwork, interpolation_parameter)\n",
        "\n",
        "  # Update target parameters\n",
        "  def soft_update(self,local_model, target_model,iterpolation_parameter):\n",
        "    for target_param, local_param in zip(target_model.parameters(), local_model.parameters()):\n",
        "      target_param.data.copy_(interpolation_parameter * local_param.data + (1.0 - interpolation_parameter) * target_param.data)"
      ],
      "metadata": {
        "id": "UZ7KamXOf78Q"
      },
      "execution_count": 8,
      "outputs": []
    },
    {
      "cell_type": "markdown",
      "source": [
        "## Initializing the DQN agent"
      ],
      "metadata": {
        "id": "Cmyq8vkqiZwl"
      }
    },
    {
      "cell_type": "code",
      "source": [
        "agent = Agent(state_size, number_actions)"
      ],
      "metadata": {
        "id": "v-MfG93MicOd"
      },
      "execution_count": 9,
      "outputs": []
    },
    {
      "cell_type": "markdown",
      "source": [
        "## Training the DQN agent"
      ],
      "metadata": {
        "id": "z5ndDEvIiewV"
      }
    },
    {
      "cell_type": "code",
      "source": [
        "number_episodes = 2000\n",
        "maximum_number_timesteps_per_episode = 1000\n",
        "epsilon_starting_value = 1.0\n",
        "epsilon_ending_value = 0.01\n",
        "epsilon_decay_value = 0.995\n",
        "epsilon = epsilon_starting_value\n",
        "scores_on_100_episodes = deque(maxlen=100)\n",
        "\n",
        "for episode in range(1,number_episodes+1):\n",
        "  state, _ = env.reset()\n",
        "  score =0\n",
        "  for t in range(maximum_number_timesteps_per_episode):\n",
        "    action = agent.act(state, epsilon)\n",
        "    next_state, reward, done, _, _ = env.step(action)\n",
        "    agent.step(state, action, reward, next_state, done)\n",
        "    state = next_state\n",
        "    score += reward\n",
        "    if done:\n",
        "      break\n",
        "  scores_on_100_episodes.append(score)\n",
        "  epsilon = max(epsilon_ending_value, epsilon * epsilon_decay_value)\n",
        "  print('\\rEpisode {}\\tAverage Score: {:.2f}'.format(episode, np.mean(scores_on_100_episodes)), end = \"\")\n",
        "  if episode %100 == 0:\n",
        "    print('\\rEpisode {}\\tAverage Score: {:.2f}'.format(episode, np.mean(scores_on_100_episodes)))\n",
        "  if np.mean(scores_on_100_episodes) >= 200.0:\n",
        "    print('\\nEnvironment solved in {:d} episodes!\\tAverage Score: {:.2f}'.format(episode-100, np.mean(scores_on_100_episodes)))\n",
        "    torch.save(agent.local_qnetwork.state_dict(), 'checkpoint.pth')\n",
        "    break"
      ],
      "metadata": {
        "colab": {
          "base_uri": "https://localhost:8080/"
        },
        "id": "W4SuKHyniiPz",
        "outputId": "6af23d5c-0a28-4496-9220-4215cd575517"
      },
      "execution_count": 10,
      "outputs": [
        {
          "output_type": "stream",
          "name": "stdout",
          "text": [
            "Episode 100\tAverage Score: -162.78\n",
            "Episode 200\tAverage Score: -98.70\n",
            "Episode 300\tAverage Score: -53.64\n",
            "Episode 400\tAverage Score: 32.93\n",
            "Episode 500\tAverage Score: 130.55\n",
            "Episode 600\tAverage Score: 193.63\n",
            "Episode 700\tAverage Score: 168.23\n",
            "Episode 764\tAverage Score: 200.00\n",
            "Environment solved in 664 episodes!\tAverage Score: 200.00\n"
          ]
        }
      ]
    },
    {
      "cell_type": "markdown",
      "source": [
        "# Visualizing the results"
      ],
      "metadata": {
        "id": "i9zREaZ3j7Ij"
      }
    },
    {
      "cell_type": "code",
      "source": [
        "import glob\n",
        "import io\n",
        "import base64\n",
        "import imageio\n",
        "from IPython.display import HTML, display\n",
        "from gym.wrappers.monitoring.video_recorder import VideoRecorder\n",
        "\n",
        "def show_video_of_model(agent, env_name):\n",
        "    env = gym.make(env_name, render_mode='rgb_array')\n",
        "    state, _ = env.reset()\n",
        "    done = False\n",
        "    frames = []\n",
        "    while not done:\n",
        "        frame = env.render()\n",
        "        frames.append(frame)\n",
        "        action = agent.act(state)\n",
        "        state, reward, done, _, _ = env.step(action.item())\n",
        "    env.close()\n",
        "    imageio.mimsave('video.mp4', frames, fps=30)\n",
        "\n",
        "show_video_of_model(agent, 'LunarLander-v3')\n",
        "\n",
        "def show_video():\n",
        "    mp4list = glob.glob('*.mp4')\n",
        "    if len(mp4list) > 0:\n",
        "        mp4 = mp4list[0]\n",
        "        video = io.open(mp4, 'r+b').read()\n",
        "        encoded = base64.b64encode(video)\n",
        "        display(HTML(data='''<video alt=\"test\" autoplay\n",
        "                loop controls style=\"height: 400px;\">\n",
        "                <source src=\"data:video/mp4;base64,{0}\" type=\"video/mp4\" />\n",
        "             </video>'''.format(encoded.decode('ascii'))))\n",
        "    else:\n",
        "        print(\"Could not find video\")\n",
        "\n",
        "show_video()"
      ],
      "metadata": {
        "id": "xBxcVMQ8j91d",
        "colab": {
          "base_uri": "https://localhost:8080/",
          "height": 459
        },
        "outputId": "c8f484e3-cb53-47f5-9a97-ab623c96c855"
      },
      "execution_count": 15,
      "outputs": [
        {
          "output_type": "stream",
          "name": "stderr",
          "text": [
            "WARNING:imageio_ffmpeg:IMAGEIO FFMPEG_WRITER WARNING: input image is not divisible by macro_block_size=16, resizing from (600, 400) to (608, 400) to ensure video compatibility with most codecs and players. To prevent resizing, make your input image divisible by the macro_block_size or set the macro_block_size to 1 (risking incompatibility).\n"
          ]
        },
        {
          "output_type": "display_data",
          "data": {
            "text/plain": [
              "<IPython.core.display.HTML object>"
            ],
            "text/html": [
              "<video alt=\"test\" autoplay\n",
              "                loop controls style=\"height: 400px;\">\n",
              "                <source src=\"data:video/mp4;base64,AAAAIGZ0eXBpc29tAAACAGlzb21pc28yYXZjMW1wNDEAAAAIZnJlZQAAyYptZGF0AAACrgYF//+q3EXpvebZSLeWLNgg2SPu73gyNjQgLSBjb3JlIDE1OSByMjk5MSAxNzcxYjU1IC0gSC4yNjQvTVBFRy00IEFWQyBjb2RlYyAtIENvcHlsZWZ0IDIwMDMtMjAxOSAtIGh0dHA6Ly93d3cudmlkZW9sYW4ub3JnL3gyNjQuaHRtbCAtIG9wdGlvbnM6IGNhYmFjPTEgcmVmPTMgZGVibG9jaz0xOjA6MCBhbmFseXNlPTB4MzoweDExMyBtZT1oZXggc3VibWU9NyBwc3k9MSBwc3lfcmQ9MS4wMDowLjAwIG1peGVkX3JlZj0xIG1lX3JhbmdlPTE2IGNocm9tYV9tZT0xIHRyZWxsaXM9MSA4eDhkY3Q9MSBjcW09MCBkZWFkem9uZT0yMSwxMSBmYXN0X3Bza2lwPTEgY2hyb21hX3FwX29mZnNldD0tMiB0aHJlYWRzPTMgbG9va2FoZWFkX3RocmVhZHM9MSBzbGljZWRfdGhyZWFkcz0wIG5yPTAgZGVjaW1hdGU9MSBpbnRlcmxhY2VkPTAgYmx1cmF5X2NvbXBhdD0wIGNvbnN0cmFpbmVkX2ludHJhPTAgYmZyYW1lcz0zIGJfcHlyYW1pZD0yIGJfYWRhcHQ9MSBiX2JpYXM9MCBkaXJlY3Q9MSB3ZWlnaHRiPTEgb3Blbl9nb3A9MCB3ZWlnaHRwPTIga2V5aW50PTI1MCBrZXlpbnRfbWluPTI1IHNjZW5lY3V0PTQwIGludHJhX3JlZnJlc2g9MCByY19sb29rYWhlYWQ9NDAgcmM9Y3JmIG1idHJlZT0xIGNyZj0yMy4wIHFjb21wPTAuNjAgcXBtaW49MCBxcG1heD02OSBxcHN0ZXA9NCBpcF9yYXRpbz0xLjQwIGFxPTE6MS4wMACAAAAHXmWIhAA3//728P4FNlYEUJcRzeidMx+/Fbi6NDe90zEzZ0/R0uqsipT4M7bgn4bMauSK7B76RNeX8of+ri2qY4RbNJZOcJCiWPWXxR6TtYsza6KEXkLsnxl0N8Lg3kDu8XecW5WC7kxkpd2F2KigyGVXaJ6mq5XPK5nQmW+nzu5zXQDs8fY61wVfdNWvD2ZhjLOlmQw6yXuOeADnT1rpwyQhvSXGDpd98bDNtXIGryJy4BTkRVTPWIRSmMn53ZcJLADnZDk6ZLZ9uV5vvhR/yoW8FqOqMGhMtHiaXB2P6jdr1Wtu+ySVTcAAAAMAAUc+0n7LAXw2i+p+fCHByuFZCyGkQVZgAAqYH5b1QSAO4O8Q4U4ppHyPFqN0uwIGyHB1dFJOxXZd4JC3OSEcwkTWEgd8VfteDBEQ1eQv9kiwCWZs6518BmRP97FrQU1CMB86hMQ/T+MWM2Ax68anvGnP6DL3H4Utdj7cQA6AXNKzpb6gDCs17VNdUCqQFhIDT9SWjxfQEFT3x3Q55et6x4PD2Sy1h7VjaV68/rJEmR3cNCJ1RbSyql36DsAcOymGvetFiFjr3hQXLU/DWmPq2cWA++s6Cfky6aRZvdWXirEdAz9hPQyEGn44EcRVf9U5nWfE1uVPW0oH+4QI1UNc2ChjEJX6cGv++Z2ZA2rFZWaa/OvBzK+wAQoCnAvGsAgh4QEsklGycApXif4tikgT9B1ha/PrJUA1B6LK0QVa0gP6a7HXgHAw9Ml2yczDInnwDJpJlivKUijKpJevSkq91DVYNLB/dpSae32ipM7eLYhJC3lSUGiKT5c4oJCEhcNK7kmVjC8TWdoBi7/7EwWWVXEWHHw2BHhxu5HAXGal8NpbGTljsvChrU5j+hkVq+8DbAlNxEKavrbzc5Vc3jjK2y8sq3/yqQ139OPl9Wl9Ziszv9F1TnLy9CpSS53EE6fk3mlSGPycREuNLgx6BrddZSUEorpzMM3UQQkte2RE1ss1hLrI7+hkbXUNefjgd0jxXehxEUnvhHnhezjJ9jmJd4SqGmHHHWgSLRrk5thr5wJyNFO1qp+cZTGwG4zlEzFml2GQXxBxPNK5Jm5p9rZNJ2zjNwvdGRb0Gz4ErtXrXWKmVxOnPtF3Yt7klGy+vRjots1TizXkXlVsEUMu5LxC2vi8sUpCnMliybouq9fJbe7X1FltirG5XHnDKczELb72tbYGYRYKyMRWQyR+FApGNTQq+91zau/J5jqRm31enAVTFvgZ+iVGl8TZrqPib9/n4jCCcs9j8Hxh78WLyBquPucaMlADDj5SAooVm1A3wTtd/9bpQMWBc9+4Lo+naPani2tBB8RoXTWbQLZGIADhBb3RXgI7yOBTIYLxGeBqoN1AGWpqa0XrEdazXAGFYMW6Z8MQkLdQcm6xt8ZayeHlIFO++UaKSdzTxjurXJuRQeNkL/+G+sZLotSLXEh6k5gWyeEc/fvvi1lIsCRVeQ595SWV9rW0mwzPR9VvvvYzjeanB6If01VDW/VqSiuZGgZF5gHjqsKxgUgkjJ1q96+PHCDd6sX6IOIbMgpgNq8X1MpqchqOJjzgJXhXPsinMS0jc15y47OiQARfNW9nCro5/aZbciq9obUVQBw4FELIkMNm7i1NDaGGew5PxME3K8aPV4zuSeSKGI+4zPFI4nYHICSenbLeJXA/jvfgfJfHG37l3igjq84Govl4COj7HqRhCazZcaDd/0NikksDwsfSLZWzfvBWIuz5xtatuNgCyy1n+5ihYgeCtWiMitQfXGvD1VGw6dKe+P9SJvwY4MssAJSVH8ZwP/ZNcBBgUIQa6QqRPM1DKZviS356r0j28XUCn0csY5MZjWGxiHxY3vcoADL1iAHeCrA27x3hcahByTm+gNOJVzF+v16qQnyWyF7K+bRrJWkJnBnFFNKDNoEEYqvhpXC4K8+Fu8woxgLKklg3E2OOmaNiDTgRnlnScRVZYhz2Oy9ZX8SDDA4usVMrfmiMnL845rxT1/GHiLUzR//7HPi9JaN3vE+7jbzcCNsO/J2lEn+dmDNjQYAmy4yDg/OnR0BC86yLuGQY2tx/46l79qsh88Dtptvvx1SvT7MA1HgAeMAAAAMAVEsxmCfg4BJjF2nK7mZyBFBWDcDuf09U+d3Xolx7QR6fe08zGvvAzwi0kFj35cI/1roKE26kC4SzJrcGnIqod5/buFHNNjkjkQ9yr13bfGEufYmxlzAPThsLROafDgDytqD1QO7tyAoiSkGIB8ivWjXIPVVSWo1Zf0onSIxXtxPXr84yhPn8uz64PAlZ9M1qDgUmf+xR3T45FmlWZLMShkuzRWIMv16ser9GiKneFn10CgxhRCKTjllQFL9ZqAQXtQdCGD0xGWNlQ8AAxFq14bvGlh8Uw1xs32+gd/lKjLpQosPcYA5lLTeogcHOaHsyC7n6PCX6vCD/nVfbPQAACUdJ7iSeFI5VL02ZBp8+LsB0v2y8ECNR2U0fJlciZ4A3FAAAfCAOZgKbAAABOEGaI2xDf/6nj3Cf70NiL1kHgATkcuNhOaUZtoe7QBwxAoCWTf4oUHgAJo/NAMPcTr36KPuDRhHFWNCpG2R5hUXO2rp7C7XlqQiUlXDpt/BjuGCEtqUHE6burii6fIzqdPH2vY1Vx2B3qVUdpvOUBPWwPSoXBR45oExn1+N9RNpNmpGST7ZaGs5/o0n+NfX9yviTDpAK2a0Ju6MM4bFpEhbL4XLywdFrKT2PZ9AnRN+FtAIJA7ROpl0yyy8wNzhyIhB38m0U4FyYbZAWLEgx4rDhCXNlQj8npiI4quVUq3nadnWUkfVnrle5/kKEGhqD17hBlUhOXfea7SXU5P/hXLJKH6Dz2Cjd7lN7J06Eexhvl7FPOLCRy4sfKbG5U7Y1l/ago6I18gf/9xckcoAEy8AhOK8awHRGwAAAAIZBnkF4hX8L6pcNX8kmaVr6xtJfgBMll/s+OYPLcP7NC5uI+4u73dcZPJd7NjE3Qtln4xJa1lCkXIXWQyE8DnUjomul/mw/Yau2dpNcfA64ABfdee0lbe+PfR5OUFKg6g/gtEa/17pnJFx6UTGjXIBljpP+UhqMC8cLxTgQmkP6qESpDUkBrwAAAFcBnmJqQn8N6JtgvJzNP3gAm/clXVQ8GD2zDFzg3OjstkGXm0oTWJygW5aH8Df4saJEAOGZLcACD3tMqSbNbVkX+V46TmfBQp4WuQq+si5qxls+mbs+W0AAAAD1QZpnSahBaJlMCGf//p4hp/rdq635LLJGOY70w83c/bcOUBN6HRoJb2JM6287Axr7BhJRIh8XbaL9snUzF+GxpUyISzaJS9yZXXCp3OFj2MNSLHuwO/xi90wr54+Q+v90zgI5Lq64yrtTR/3dzsg4JWuyAAADAALggxfOfx1+9pQD9kA3QTeaF/8p8x3p+CFkP+NhADiuPqFTCud3HPOWCv1EDYn8UwfNu/vfdrUsFky8+VxnvyCEAlaOiP98TJKhr/svUdDvIkb9AaAjY2q/reMvw1IBZek7PBKYOv1UsJP4HbgPxlUIhPEmAKqz67PduGWADQkAAABuQZ6FRREsK/8Kaz6aChD9hbuMDmSGAD904IT5Ob2QIMAUotB8y7rNKuUsTPjEo2jjfYCFGOLDWWlB/efEH04x6YKxihAmBMUHYAM4wyNVndul1bnn4nQA0i5i1P66QBUuQYi2dAFoDc1q0G+4cvEAAAA/AZ6kdEJ/DHLEEVe4KJBYtk1neIJAAJ2ZI6KKz4BipmSMxcACAazN0Vx9IJN8AlaSAB6Dt6KHbEwS8iCHstoxAAAASAGepmpCfwxl+Jm2+atWlPg5OQUdM+xYcnb4R3kALaBJE+UE8j40rJ0pcDNC4AEA6sDMOb/48D+iRyK36qdXVamQ4qhgMxULaQAAAPFBmqhJqEFsmUwIb//+p4qd/ob4Jlz/5PaBBJ7Hh4llwK9FD2yJNh7hfryQH+fzC0bQmaqMv7FJ1EAgzPJS5oiEdakYSnhCTd2rC5ElT1tmOHGRKe1MzUi9ZAekAAADAFi15FNXiYuUZIJ3TQ/oK4WxAwpxTt9/j08Du4xklNf25Q9gyFN8JgizZ6RR7rzta32UJQJ/up74ch/utnvu2qaxRFpOEkH+H6W1ZihCmtM/d8CjvT5aAmBfpqsiWI04Mtd2MfBBUXNhOqZNvMhIsaV295ovqHpbg1p/9Aw2mdpH6FCkYUgGr1H5OmpJmKZNmybgAAABG0Gay0nhClJlMCG//qeIrGuUEFmmaAWdi7vI5FH1Nwr9Rmy1x+sgoV7AxZCFbanKwC8Pti0KchMtmJX9H9NWn/43v7PnRE+5nTY0h+XGaS5SSNDoonSdGmvGw2Hz9F+uSdt4C7DnVC9EXp+8kulRYcHETCfRK3aMrtaQ7zl6zLvEirEcnExQZDRRJYo96Mbte/Wi2rTmGUQS9ghFo2WeDDbb5z0mmqZcGjf97aZFxPj0FE0FqHqNVnkiYfDJzKPxQfS5xFQhp8GCi1JagDUJNuS49wOfP7HPcOxRHhgKxNFslhL28SL0sYAXwMnDfAzqTez8G1+20EDW9S6mHpbP5aqNABv1CPa7TZ4h/9H7f8HDEmkui6peG1B0N6AAAABTQZ7pRTRMK/8JZxu9F5AG+KIASPPQ2k7a0aFYUFmsvvtTjREBEVdsH3yTnlFRi79EPscv0fVaJ3WSnNp1GCyNTqvpMAA8cE9xw+/Mw5ETQ8TmbWUAAABbAZ8KakJ/DHFlOV4+z0ABAC1rcZrxcYZg0eg844vdDtwajKRdqMXnr/Zf1v624g8BiAsxSbCfKbJe3iN7uV+nfQjN1IQQOtJ7gBbhL+wHWUZ1AdxYii/DHUDGNAAAALZBmw5JqEFomUwIb//+p4jTT/mkMaya84hdgAE25o4aFmyHIbTw4GFACVmgVOyF8/2AUQfmUfldWAp/oc4gIrVh66zcUUO2NDz7JfRfVyffMqAeU6Ha7PB8pagtGoTRhqAgxhHxevha+l7R9n+sL6FOGGf+dEDBpPaSQPYPT3YFX0MqMmZHpszeLnn3KbseZoDaz3x+n1ofDUaNst3aROYwg+r5JoA/vxjMfGffS5TOlpiQa7Ih6QAAAHRBnyxFESwr/wl0+hZA5wNgSoST68VlUv3yAFtxOq1z/dSRGuUFLIcrDmkjarNbc8v8qIohJgHCF3njOIdaEzS4RR71Dc12Tm1pdX/Bq+Ad3SVqjYxJCYAIgVF6V0JZQA15dJcT3WTw6W9kSRIx2S9OsJvsDQAAAEgBn01qQn8KNDecB8n1It3eQE26Qvi7pj9w2tTBp01DqvzD0+xFhLA7qf2AATH4Dfc6H4QAWtFHI2SqcbssTkyq2M+gAnagu4EAAAErQZtSSahBbJlMCG///qeHVCf8T9nWekQK2LmGhwpZsI3fcn/QAsuh5DBUN5OGp6qpDIwTFokjVzjTzUcp1VqjlX65CZfn3lThdDNNUd1fye54iG1+aMs+5Qjdc+A/qkl8KZ4crpDLK6n7ETDvCiBLqTE8iFYYUbAEuHuAS7viUdnzK3FxP+ztOP3QBNpjs9roUK5gGWNOm3s/e3PYaWrUWZIu0VBUEcw4c7UG5ZTXgZ33rlOobYnUjP80uNoT55zd4WXSnMugg3mArWhLB28BeAy2D69O8uU0VWuyW306T2mnB4wQqEdUOAcMEB/VxR1EaeU0LP41kGwGsj7XWpA9Yb1oNusK0Hn87EjeiOcNjAAoCKQ/7ALk7aP8ospD45I47RBoSo01bwFKCqkAAABpQZ9wRRUsK/8IjQK9XzPzQ/2sKS0ZroAAloeeDo9smTlokqH3ImoftYLpErQoO6ZvwkFqBZMr8lVJZY4RiAh6EWU3uBLPqR3RoVpp1yI9T4YNX5/Lbg8mgBYt+hEMlackLHGYGQkY0qg4AAAAQgGfj3RCfwojinbunC7rdiZmpmqwQJ6V5ykTWvAw3bgAfiOHLAJoz1kostWaMYGUA5gBMQ+L16SADy4BFjU+eAYKmAAAAHUBn5FqQn8IdD3Gwx1iMPDJF0bIvPWuxQA6RngR5HI/1JIXAgdDDS9duEWzu0/yF1vtbFWxF3mKOapDa+efLgXy2d/C4cQm3xsauLQ/HMHfGSBLzxP6XyUbspMmR3OgeY7CobdW5966bbwZcQgDtB0AQskVCHkAAAFwQZuUSahBbJlMFEw3//6nhAIFLiHwgEwAJT7OphkYXK37S/P8AdVkrZKa4L6LiVw5/Kx6XJuvBvBYOFly72Ae3qc9SQ7r7DVP9BC+tXNkY6FiGco1SbUerplOe80GBk9dCcYAYixNteKWKQymk1lWC1sL8y3WXjYdf+SX13mm4zc7kqkgb6jR62MQppcFu7aBGAhJ7PTPVcDGvxeAEdpPVld4R2GmHXqSY7tjbhfb57v/3Ih9cnQzC5s3NDp+uDo6bB+158n7cuOi40mgv+mxS11hqzu3YSEkS7KzXPKPXFfALINpvwUHs7VAp23yQAc1KOPGIrBw1k3A7Nc9Gs+yZpF7OWErol39THuvfOO/lDFB8oKddSQpA+oBX2YlDyqDsUq0L1VSqE7g6tJMJrz3ML0AU+huPxIGuGmvbM42o7TfjrpBz0JT8qYCBsRIEGbbkYkUf2XJMjIaHNHdo7FDzZ4ATtA7PgbJ7gTot67RgpIAAACkAZ+zakJ/Ac3oEKtN9EEQNxwl+AG68rpdKYkx7MUPyk/p9RWr19x4Z243Uuxwvl2x816/gwaU43ljL7zytQ0qPZ3N4km63qmrLKN/+WhOX5m0lz0uxYOP6tqvMtl0xDjauJuIPHeefTP3LLVZ/1039tSBjB3ZK6xExmvQ3MLj50ic6DsFbkoLykbrzNb/S1jIZQhiM+n6dq69mjPXT/kEKA/nWXgAAAFpQZu4SeEKUmUwIb/+p4QCC+KrwnDSnmzy2xlOTn8DeY/DbFxe5NROPKGgQYVbnK8vJq3rRGAUHU2V9Q+Fv7A/J252gKzHHbp75UDFsQ02AW4kCGezamTIkH7cgV8DPUDFstVz1N67LzzAPezcox6yBdbq7+9Vtyx8p5tWxX113ma8d39yMPYAUBG8qwPvs0D/kwBrnFizR8g9OnyOrvqGJC9DSfzT3GIhvaNKiLdQqkqaulZjj04lGr205J/qqCnAYYLQAAgmlNgNPAHe8em4m6rnKcPDJ2rRqt8dPopyIXg/ulJsLXux7fq4grbXD3qN0Yq3o26dvalvWll4tQvFWkjMZbM50x+/NvM7D/bI/16zNyYpjS8/YT0iJVNGK5OTahdgQXDEbIB5DiEDe5zyX34agZd2qhpywSDMg5eN3CQ5zC0jC/tAThVlWypr8MDMNVBSK/OTHKi/FLk2b9HmB6IDmu/xGwCZgQAAAO9Bn9ZFNEwr/wFsaJybU3XZbTQl/3AgAjI0pgx+RlIcZ//dhHUNqFrRaNIcYGBL5RH4+abCE3UFWZ0Lsezc6fKR4OnpE9bgKjD2NNj46GiDfRk5UaDha6A4lf1o3TpFWFyX5Iw9wARaS4p84P1UeZVZFc0kPZlXV2dXI5X2Zv0kBty8xbGHXpQqDD/3xaCpsGdcirCTLKb7nSvVTh3aCqsdbIOKgxVUGZ19Mniv0lItkbXLl8QFIFdsokSuzKIvEioskdYMZOCXIC1cgoX6NVIh1FfwfsEgPXey6TYebYABxc439Qb78X3K/mysDgAFBAAAAKUBn/V0Qn8BzdguNNpqvscmlNlgAjtPya+yFGEAyl3I8GrhHMFd5f5bMzwMmHZn9JSmAew9DgMA9E9uzcVsxmavU3gEn2dDE1ycC7D4KvVSnreulXQQe97qVLaWeNl7GZ3gpabT+Dq0WiH8HTZV6d7TE1vHSVOU/WNZ9cdSdeh01beQQImK+Wy6d5gZJRuNI1kktnM1fscKAeA5HRF4BB1ioNKzM+EAAADzAZ/3akJ/AcMK+aDWHHpbVMAF/sycFyJEjmDCVATH2HbGTE2E4U3MAN2na0yCx0h01k6oJ5uAusq17C2c1cO5FxgxXzq+UN7SnxsaVYJfKu90B/oc0fi8FVziFiwbnyoye8VSxsODFXqtM9g+9O8wukoaGgSx3kJMogKC+2+990m0OnkMvB+Iaw2Cf1crn27YstPpUWTmr4WFscUW45n/yv9WPQFoXZU6tktdyEMDiM0rqO0kF7VrshNFKU1a9VJYQECAkunTugvKXYNXPF5DjX8RS/UE1Ctwc+bTN1snDPFyPHQCLgsIYCvxlOeAvGBmXiHxAAABXUGb/EmoQWiZTAhv//6nhACocy7RzeUOpngFsKpt9nwTzwtmXeIUMsXD+U33xP04ihInfkClgAipk3sXnVyeRgaFOhjWFC/OrzO3oyBtHtdcp6Eu3FtTmKixa1Ns1aA629Ptp9PsX3xkm/x+6xzKbS/KSNFB6r3BINXgKUyPF/4QFE+lRqSd+vG8jGRLGfGFaBpISST10BBb/9vvBjnJUlZH6B1IVZ1ibFY4aDpCYpsY4l3sX+vV2zYpqFPjD/jlBEmFeWZ4XR1yYwJnJrcQDOpOR8zVt1X1MyUx8kR+mi2fjdZurIslyCB72PgVf2haKJfxrEmIOfk5/oLLCjxZRGdkNN02SYTK+BJZCITJv0katgkcBAtbQfuJfaCv6LoNui7eujveilw+hHVoMCfWMpUQ5n9OnQTNoAfLCQmxm8fAxIx04e+TAnBX0Vk3ltVsitZCvYLpty9RoiXAZUAAAACuQZ4aRREsK/8AiwZMrDTCXzGbjcbRZxH0P91ZwnUrM2lVYSE6R8B91rUVl/nNl5X0bMO5sFUCdaSjuHSX+g1zZaDHDM9wTtVM6/Mv9GVw9DBeCl8YOXdeiaealK2z+95RLyZcSH6YhBIM05roeIrYPQP466k4FOUJz1qoW1oHDpYtBzWJE5CdeEGgRDAxi/oICI2bOJ867GmvxwuaceSVA8wRAx1/4hlu0wDCMC2hAAAA0QGeOXRCfwCxIX2feUGipfACdw0qgVGzy6KIxqiXDrTjER/b2lLlwY3bexACxCRVa1WirTP32owHGeIjzki9xPfA0IVYWG8Evjs5X+st5Y2OlhzaI7OxNiHPsndJ3Y+PNEmwzkTo/wZYL5wsxg5LE4Ww1tF1Y7eL1j4h5lxnTnIn3aYtbPt1+kO6yE7S7ahK/SDIlIhN9A1OwyjDLSAnDlWGf2ILdAz4jyAgXR5G7xVOrtYdMX8ffDj4qpMsWohOJMXLk8xBzcLuSLbYZEQJLrSAAAAAqAGeO2pCfwCssmBtuyR2naexzqMhlTmpWLUhneW2TVoATSb4Ud5x6rzbmUCOQpxQ1E38dG52gQL382B9eOv1xNRBUEmXEXt2MhUjrEJa/BgRz03lPdTZHRrdzDmY4J58z2Ecsg97/5lgXTrAh56H6/YIsXecV8mU71nmpGvHoX1gFLrw3tPsUYVUqZUSfRono3JCzjnaRTltk2P/+vA1ZbYynkUCVKSmgQAAAUhBmiBJqEFsmUwIb//+p4QAPKC4BeJuQC1xRJAeyBeOgqx/aeQSKLnpQPE550mrlrpbEgkYKWizN3RwWp4eT9Qwi96QxZWO6oOLCW8ERL3vJ6v6Aphdfxo0/8Cg8ZOoNQFR/jtr54/mJiPJPqpBL7HPQjGixgQ1MUe9ztS6K0aWOdWy7A9CCbm+oJPyxRrZ5uIJXljPO5203mGdBQ6SeZWlvn7nstqEwyMPC/Dbj4xwwgp0P1ar1uQ/DLir+yLSmQCqdlzKKQUWtUqs9HL4y5wMzH6lwCBJUjOqf+pazjj2ea7P5syiCp8KNos50EIed2GtvzF36ruP+IZ1c1x1RqHcmLYs+qu7FHZdeVfhqDWwWKuDHnJRZipejnQMHJajoQxafiBXoOpbRNerNvsA8AcJFYyhNO7YVcp++hjGM/FN2BBw/3SAKAfNAAAApkGeXkUVLCv/AIsGeruF0hSv63fxOeIFmhePDbQCblSFg7e2S+yJ/MAJmuPzpGClFy42nZ6ZP5qAKxfGuydh1cv/esGNA6HHC7sY36G38WzqLp8eLDPLqq0MU+1R9bwm52nd0WAxmswfCjpXhluk1wl2hikYgUvE2QAmhhR4YloEX1n/tnw/VcX5hINLhj+6Z+1FrlggvvX/zTdgWi3qkMf7KDwgkrAAAAC/AZ59dEJ/AD94zeoUSDdcOv8ZZiOImDYhoYA7LKw1oQ2w5BCYV9Kvure0GvyITHGAjUd3A68z0q6BBwLBL14QR96UshzEkyI9QbPo8wtV51x8o4nKegi2OlvETF5lAQCYI5f5fsSgDM9q3hzqiZSljWq9kLthqf3uVkFTGEXzpgnV1DGKOdcTCS6uAYI7hluGch7xO0yEP2nQID/OzGcGxxL3/Ab9UmO34dbcQVcNDmgYoLu+zxFCN6v2A0v4l4AAAACxAZ5/akJ/AD+Nt4WNoBEsiMUUr/BaAAJ3THGYLAH5F620RGBzvuHkmbIqNbxeCIWasNn/9MgUQ6GHIajhKwjd1w7i03Tx75J4G24sUXKHxcE0GwyC2xiJKSwdVINtaQu8e6R0RxCdAOc/Gd7y0tPAivaGsVi/BpkR6v8CGG3E3kAq1cKt3+wq5XQo7jsMOUKUa6WPMGaQra0E46Th7PES8oBvBbDl2nypD4DgPD0ESlQXAAABd0GaZEmoQWyZTAhv//6nhAA8/CeZLEBsWNbJVpPXnnMkkQVwAmqeidjIugdRoDZo9sJJ0Ep/Tk4XZrKD1Ys+6c+aXTUytRfad81vpOt2rOIABZv/hTG4TAdRhrq8N9TC1Zhyssi6y5jdhkaM0KJeIbnml0bFKJUSfWxuqybFTBivVY9TNPOAoCgmYdl9cHCTBw19acyXkzMwjbYtCssnI4pdIrBSXWwdXO+hZnMynAp1BnOOnjZ+6S8Qw/ehbbDuKfAJ4eLE4bOZx7yPwnCiHMs3v3tBY7hwkou4ApXrrUtb00ZdhzRCzMEwa6E3kcVTqIZy4tPYvnQODst95a5yak59bY6Bg8a4OXlXqEf+0WEv27PlW7+zfpiHyPauk+YoxGWvUUEOa3Ah/0f2fRsM38zkVR6/q/shMx5TLzWHFcYLIIEYp3ZLlMylIxOIu5BcLx6gNduIdRwigh0R3vbx7Qn/buEJil6R9ek/94MW60xbmsSJix0BgQAAAL1BnoJFFSwr/wCLBnq7hdCN66yZAkV0RMuSlelV/GPIkpMPiBHnIPWOPYsQfSrFXU7GHu4sBOA6XH9UUtZDvrPiosIY23S5hEEqPPdBTCbhFddkRNYWNFR1LpWfCTBt5O5Bp+KSUJTL4PdWeGoOOSQZb/2qUR+8WibXgdhajlNvI3L3abytgwM6En8nKYKOSTx2UUxYGuBbiBQYHJ9dLh43sU2y7R1eujGAWooQ0NeOWR5yxMahYLOvIUWOVlEAAACWAZ6hdEJ/AD96+yqAkk2kKAcsHKWxPVbcW8GNflr7vGSpFSJQiIGA7Zwm8oQhGp+5NJBbxPJPaePXP4YmcQhEe1//Klbf7LfskACkgho8u052KTVfd/DRuWk3ZAvM+WIET1zywQ0la5+Mu6H2sWkBqE8XKuZnV/4kshCL3cc3XhPM0b+6JQJdod3Ll3RioqHL51ly55bAAAAAaAGeo2pCfwAYf9yYbxUkNBsl2+dtGnoc/RuggUIALcEwgV2GaSG+xD4P6RnnrTjL/fZw8MxQOoA+PA2ZuaH/e0DeHlNGr9Ka0UIc8/Kx4x+gSWw/eDnhhQoqcU8MouqIFBaH6fgyFo0ZAAABN0GaqEmoQWyZTAhv//6nhAAXXmXYYfaYxjGQcY4oVrjMW9PFAEHjmmSUsuC1sh3KBIia7FaVDB4277SU+pin7I7L+NbR828I8V2E+zQa10vxwXtzdx5hq7MV/lOz7F8bOaJbb+Ap2CFBIl7FNhiVVHV+wdODTbP91/UJCzTPWtplyQheYe9zSijJ5d6vurSHsY6/fhJpm0p+LvalRPZj418ueg7oBCNo+nEYFXDTQjncC1QL6McP+IPbRIU8zv+mLN07xMgq7G5ZMn2Z2ybUPDd/cfSaHvMsTtCVYpEUiTUWS47aooyV8dqX6ev2FGo4TkEBDIU7NDNSDzgm1m8f+lDkKRUl8gzaD82fHUq16HihQHug9NDZyup3hbs6UrpkOQzGkFpgbCLx8y/0PYu/B1vp+XmavAspAAAAykGexkUVLCv/AIsGeruFLsfmlWKvIOv3gYYHzwixjvzV+s49MSbzCnO4E7pv2+7rajn4ZfGFOugfjj1LYFtj9+DbPwAqkfskTL1SoBdwdcElUnadBj/T5Vv6PBnxpG9rmZC2HS2UtiDl6Hy2VHRuB0szdPqOsrUY34iD5HDVNKUTs9sYh56ei1XsytOjTHBZXuni3hosvmxiOKu2m8s/TLTgPT25vd72Nq+CKgzOv5pQUgmvrSXS+dlKAf6jgVVQTOlYfC94yg31ApMAAACeAZ7ldEJ/ABh+ZWf2xA9U/lqADzEpSNBkboFw6tCfk8mN1KjKhvLxOY+gJGpqiNpQKcoBPp4K8krhANVDSkL+BzeZ6NhFI/x/tbEcFyjp0cp09P5m8GjFpAzFlXYJF7NrXnNdkPxPVOy/r7XNPLQSBOWvt6lt/D2j4Hz334FXhHYPfP/sEr+91DntMKUVsukx4FVz4nLqhHftPCvdS2kAAADIAZ7nakJ/ABiBL9g+018bh7cGfCAMWaeSRs9l2J3DdUoSelrW2Lf6XALtP+L4/OMBbLcM/n2yuDw7f2UgPStePDWlANHRVujXXLOAqTYu17ZHXOIg6S1losgivlPK7UpRYYAVbwMhelop+8CxJol0uTzLts2Fe6R5tjzGpOSNMJCumt7J4fd3wkYZiwHXNU1AsovT2C2kKO1J5xdGCCzfco8iCz3xFbcYljz7WVgOPNdYAKoc4tDxbdjxq8HUwiSg5MmyIqkVRC4AAAEVQZrsSahBbJlMCG///qeEABbP6P0kwTV0z5VEztrV4Pv2Eio4KsL+ZUCANQ2M9iL2oGC4UiSH65JiF6CNV7f9KB2vTriS1Z0CsFO37/0YNdVxjbJgyphl2dhEW5rSu2Fnv1c5ItP4+d3jWNCoy0M1oUT1G50A2YH5TWYk5pSZsnBtfz+2k7UHKU2YZvOBMU+Ka8LNVwZiBDXVUdih782XQav7JiZR0AWroiGjCqDzAsC70qA6+/hxoLLVrEuQ7MuaWO//UO/KXMYnt20Ha39i7ImGKp/uM3sCxFJ1nnqelHBnWKC6KbR1dpTuugWhr5hs/JCqG6afJ1Z5WXIu1lF2gNnqLPX04ftzx1k/+dkrStoh+ACDgAAAAM5BnwpFFSwr/wCLBnq7hSxXXcqFpOR+7kk9TDg46GgPJ+4d36gsU8YNZfnHV8hkLBqVpDxM8cqYu2X0u2qV3TJgefOgBDs26xZteM4GiWQTI5LVJcEyR9D4RpCqFonyBHRI5GNqbYEsX3K/ZKNhWoJbXY50Xs3oxZlgovN++YlnYIRaPDMMISvl/hr40FMyU6aCktUtmIL48xkpGkib/SJBm5kEXGMZcFLAfI7muILoxSIBFlNgaZVVzZTGunFJoO5va5dofXamfjQqkYC2gQAAAK8Bnyl0Qn8AF+gZtfS4uR8w4EGATXjBlhfKZK2vR8rU/VYsa2xTxPooWbaLFde/IANmw6S6/uXyM+qw1ks9GdtXUJmcJaDSygaf+OQEoKK1QIVxxGZ0L8c7x2dF4RF/ArzV8lMzqZfw669VpzZ8vTymXZ7XawqBPtSkShP3ea2hOsuZvgbVIDs/gviVVTsWB0ZQntONykILscVpnSV7Fflw8NsRS8HaklvgCdgloeYXAAAA3QGfK2pCfwAX4TBWzLAH4xjN5eFpomn6nybdbw9qAvH4AJ1mmXet/BKJoapPeZXEJXTPwoPyySpOSJPOuAsNzyMWpW7bXp37iDmTeIYgPXTHRJ+DhZTIWHRgnEig92vnTjAwCciFOdJGTw3R7j99wddtG51Jv57g/1B0uSICQzuQ82e+hxyC82sFuvBxnhGLWlinRmFgwAdTUWAw00zyCFLbtdvxKDkwkeWhdezLP3SF88TnOrNvyYI8KcQlgFAfmrAHi3GaqL/bj0C9jTJMuLDjIEfDPO2BkMFxGovAAAABHkGbLkmoQWyZTBRMN//+p4QAFs5l2nEeUEPg3J1/4Uk8ZW5Luqja7lfkWDNcV7kgJPAY/UxVXHfviXjb8h/6ArGD3fiBo53R3Drjm5n8/x27TXsHblI3s9//G77ABR1CfZkp4Jo0ZoTRHKOYfVklqLlGVJGmyR2Csg8wL06gXBiRYyH0/tKEZsMuqaa5Wlr//7rp3tS1EgM25Du092tSietgaoiRehM9IbDahKAw/y+xMMLDVp0reIcsMTpf5DPJ4Z5tRjC26gXgzbb1LEFLahgMGuQaqL4/4HKcNBwHKFbUA/qx9ICtIB/GrrAV9hhAgHUfTIKVzTuOfOOah2+leTCu1qboLbtVhXWBAx1Ru+GB0FgtKN/8o/tHr0FgGzEAAAC+AZ9NakJ/ALX5wIce6el9RUztSq2bgwrm6urKo9N/7nTDFaEMEACvpO6NRfdBDG4qQ8XaYPqA/Qp9y10zLZiK0WBCdhlprXFezVlMuWGVsexwTqijjlKUi+Hl40q1OClNyxX9uMTW7kgiMW8dREhivsirUxu1lp8QXApjKruPvp26ayMndB9FqMQ974zrqo1v6cunPa+OtKrWJNpRhIvzqlLwKv3M+TuZzKcSQGTXezCWRx7UyNxSEr2BNN5QQQAAASdBm1BJ4QpSZTBSw3/+p4QAFj5l2mDJRB6LbA74cATGRM5Wmpo6thKsTdYrpSoL5ZwC9uZyOeX+ZR7+Z+ZHHn0hydTItVRWLDGBriIcPTbxE/rR/Vyip/2Cy0YM8NYn2yYgncQvLrhOxXBZbApjZp8pyS4mxsZ6M+kOYCjeQ8Ahpsi8sR8rLWMR354ERXiAK/loM2WI6L4vWS4HpfhNO3XvnS2qMvs5xyJJ/SLE6IZK7eZfnOVQjysHgYk7KAUgIt/KsRazzKzYFzUIiBVKTodrstBr+f29fjd+K6Bl/vBBBHebllXpRHnZvClpzdaFzcvdgisb8V5XxbDOYw8qwXqUuzvmYKtWAxhxZqTl5M8NmtFSCbyVO99qVplZgPlTr+ay5rAG1KEPAAAAzgGfb2pCfwAXRkxF3PU9hABwUkPnJt6M9mrbYsEpsJKXGeqMsUaptyy3kDiL9Mj3a+YzOZh8HeMF6u5nHP+G9uU26eJ2H/drFWzMMVjW62o03c19mzJ2NHUdZj/CMEqqLtFZO2J23DE9wv3D6aG/xO75LyS9VI7PHBTBhp+D1SL8i1dGsR/Ifgjibk0odSR8zGdpaYEnQ5O7AD+eAAp3194QmpaLzYWo81DUSvebgPDLF+H43141TGjQLkDDj5pbfS/K4m/WRIy5Lmgs6o3oAAABY0GbdEnhDomUwIb//qeEAAj3yNOK5UTOUkv+/wOgZR7MlmCVRWkkOBCXkj5/Q0axlwZirFS9owIZ+wvxI2CLpHKNoQdoHseWPxYcTN0F/mbcpmpvf/8frtpQDwBwkU5cgX7Ilx17xD4xZEUx7Em/21NO1iCzceZbL+aQE16Tx5YkuHwv1wZ66/v7jFMxC05kfYpkbUzIVnt3BRrsbc43od3q+iZ+PDNu8KibAC0ps4ij1LCllO9Y15E6bg4J/+L8u4VZ9F1//E19kSdGzUc/YxqtCD66PrC02YDn6ojjJOZVVrq41AJIAsNNm2fyy4kQLEcwYDFbLlb205smK8P5CWfWWmvVPYx4qbb6Hxm2P1CV+FuR1pGCP9t9bL0zvTsOd0SJgH01B3Q6b5TksDUL5lodToG64HuMZus2PYc/3HfiqDk7FziqmWNmIdNyX0kiaH2Og5NXFdenVqQxq46QX0SgAbMAAADSQZ+SRRU8K/8AiSqReOl/QBHvN8UKJS3QOdQruXgJG5z1YWTborF/5dswM4+l3ZirNC5OBD4YQr+QaL0srwtLISU4qioEXxFYHyoAFvJf4ravXRl434msTcNpuU6bwBp7+VQeOa34lvVnTK+6w78QBGD2EeJC/gxozVIVLYSAvPsR+v4MQI7309L68ukacekQHGHioA8Qh+22ItrZSKKRDitPpPvgqylPYUsSczMHwhCu9RtgkEgmOPMRXRCkmZSkSITHUzDI8HfPCqpFWuINiTSBAAAAywGfsXRCfwAJr67UgQAi/oh90nocqY2jtKKPyVj0WP08vCP1EsJ83Yj5ffnLHNrDUYr4grqzMasAMKxgM860J6uNt5/mX8nbwAXQ6s1bcfyW/XKEYz3pjPXKMQWb7iszwFjIcI+Uj1rvFf0Rysm/9u25zNPHlgyw3NdpC4uQ/VYlkI7lWovVNOAKj2BVmaWfeGlVxgatGg6IV/+o1s6mRwiJTzJIwnerKMtPc+y4YU7eUvEIBYDtr55T7vqfLkxZi5L37LGVqzoHrglbAAAA5gGfs2pCfwAJrGHiePpOn/Ylrm4Q2WiWN4ApX4GzWxr2t6nXOb/3MHvUtl7tn5LCsH/Xqa0BsnguXFvZHMWml4ncPQOkKodiNTQk8Vkn2o3p+GdAQhmdvywmft4XvgMfwVHkM8+OQ+Y+ldnhdu+a84kz5uBRcnVGhcgvywJ2HjKCpo29IY8v2wFS8RkM3Jp0kwUbdb/adZxE2g0LNoqSGFkfWwDLghkh7qnnkbQDdk33Q31KIVz5pw8ewDa/zpL0lpyiTpK2y7Pxy/3JhkcD9Xxfi6ymcpioQTyNXXZnVanirDJEp4z4AAABVEGbuEmoQWiZTAhv//6nhAAIt8i2dx4a5gaFhIAgVzOjXx9t1jvEfz89ja70b7jBiW0QPQxBjYvDD6p9CbBNNfWPeb3A0uHmykp9+a7ZtS08q/PXh7wwlkTHnCqv4WhwkH6vQxrFXZQeyTsuYDCCEWhHkGHyAXdCXZPPJM9P4F+BeBKwKuWFFTVdLPgvxt6QypfVGrIKPVhM2mKw6bKa/g8SRZHN2f93PVr+U/11/jcd4QOpKS2sl6Qn6rAD2OB4grJmORinX5LDtRSEO7D4QhqfpLNGOEqpc/ZT3+7DsFgZ3yiub0Ql9WHV4KxV9N/Ocl0GwHfAzqCoGhATE3d2/FHGQGVHeVeS/NL39O3i3gLrgtNyNFj6rwuEfYKhAbysGs50EWDL2XD0Kb1wBTyLfla6Sz1jHaOCJMGFeMMUHWSpIINFeKTtSFkwxuoBGT5XFpD+AvcAAADTQZ/WRREsK/8AiwZkQi6nie0/8TTTrpr9pRDBvU0q8zpbhnQAON5sYd+u+JG6vbcDg0Emz8DisPfcY16SVOyDWx+aKDtvnuTVU9vpCZUxuWWw5uE1CrqlByN5y7iC8sOYaDYbeaL3/pYqO+artxYmX4czRXhqr3BLG+9OMUFfZ/Bpd01CzWJDMi3CXdC+OWx3S2zbcb3TgEiSR8NFRscmXy37oPxEuv0qdB8z+yAjnFBsvTZhXmUgll1oEPBgW9edkCZqLn1z/uoIBbmZpaVPJ1o43AAAAOMBn/V0Qn8ACStLXCXA0hVm8Wera5mj6WXzXj/P/wAAG2+7gtl/2lWTFvnA3PmXQ7CPXys5ZV8RSuDINsBalMG3vF61uabn4KhTLy1mvLgYoDflFkMtbSOEZquVIpqJOa5E6hQg54MfbyIABtrJeDtQZoVGmh2EyKvAnHrV/LkZiFuG8E/ndHCloQFd8rGjPUJwIA+XX66WyXu0wNsU5CXTPX9R9HfGzO1Zkk9wsKhkjmgw+bhTBIfqz14F6i5O2/oBYNrXLod+Tjg2KFAW/oZHfMRZ/+h5FEcx3XyT+PiUCiepnwAAAMMBn/dqQn8ACOrxz+3TPjNIItpHjwBSwc1/bOAIzK7YkOHypVUZBkJoVUinp61x/5mre7fkZWlp5a1w35o0PVDcOlUbRT5YWWy7n07DORXklhehsEcu2VJL8ZaRHPxvzM8Av9/7gvdEiYEt9veoKU18hTxi5Y31YCBisHIuDtaV4EoD+WU8E9fGZev1AmLZ/6bAMlx+B0kYtJUkr0G2GDYqBl/mN4mB4XuY/+1FFAwz/KV+z4bK2JBQ/G7XWTGM9Qa33b0AAAD8QZv8SahBbJlMCG///qeEAAh390jaq+FXsBjk3Nwf0Cbyu2BVb/tCQ4POIlmBRGu/yEDTKkOFl9JZ10qaZmmW2FxajchEeUY6ngau4871GlhaP/E/E9lNpA7X/h4vW4fHGs2vPtinENyqM9EjeFjE4JPINdzn8G1MmM86R4wATMPRjNCBkNPVNoBhGVh6PERn2SYTeJdJYDXUD9VTPucv9xnk/T386Dr9U5biJQ65Z8RvfGPbw97RwT5EA2h019FJRuiQhMQdgti3OknV7QMjIM2ipoGAMcBcz76qc848YNNeQdauQvMS4FfFiX1psCo25JUuL2jhwIShUmJuAAAA00GeGkUVLCv/AIsGZEIupIjC+bRs/B1sVhQu1/B4/ABwdUPNx9+/f/hHpiagdjb9/Kgue8Iq/ffQcZat2/1QZQIaYWOKab/FrTC+lzKXBDwZJx1aLTXxI2tLTmTCx5ygbGTuKeu3srVdL6Ma+xdiYuifCrweajqBt27YVg09ROXG6IRAwtbNoDE0ACDJXsmoS0WOIcE2J5yImpdI6gleotrinaScu7hbY+C4ZTCZ6zVjeHtuLDmLQtO4JG4IlqEX8wItuY5gSmSVhmK+zuWbQNnRUEEAAADcAZ45dEJ/AAjrDllHRwC/xPN0+LMQBFR+psVqXNBokWZNsDCK02bxzP7BccsS2iKTda6akEuxzu33MF++w/loAey56JgJ1QxxMO2reGsIDH8sLp6tyLWEw8vJaDnJF95Zkrgh7prjRRTONdJ/cGyha4upUsQ8Mx2R+WCm/yNfVFq4AwSs95VE0wUVjcCOxf7FB/sh6CWHquGWqJziiqxPWby+N7v/7XJTARsOCVpEllBIoaBjao4jsPYCmvkXwBZ1JN1f7V4JBvFbD9Cr4AndSzudbZnZXyHSDBBi7gAAAL8BnjtqQn8ACGgBa8ySFc9wvwBW/K/N/QXmKeOn+yz0iCsJt9oOh1Z8zz4GPR9/lFP30XZX6Cz2BQebktM5HyLWo4CxdJJkF0V7DoFPyUv2/2GOopDitISVnvG/A75FTGkpDvVXKL2yzfZRX6MZoWhQ+NB/3pYSoUW6soO2asWQ4sQT6uXuoTeVARn9KCN7q2tmBr/F53eYH29vdRpqePZl55EdujCaO6AsFV+2x5CAKhVlheN00pWDGOXAjSMg4QAAAQ1BmiBJqEFsmUwIb//+p4QACHdN7DAcsItQAEYorMC09nVdcsWMgxruCbxSuQRXyY0Ywn9B1BsBJ/yKehM3fJTVDaE8mpRT99OWWUi4k999etl7XMP1FlS+nr1te0lUgxrtq888erTk75UpvVB+MUW5Ctg/Z4zMM6OMtrY3hFnppNH/o+Q+DEuzgetBm+EYMbRgMi06t05xhRAlcT/vECYfkUK/QZTMrUTE6TNYNxeWugS3SPdjnvnLgZrbPhE14CCDAs/b3WEHBfdNlAtiohc48pDu59vjsxxHHsYmRSq77Ew95qbHOZL3kTIs0U26OPz4XCngewjrG26cVp/1lboJZedkOcDiSTiONoCzgQAAAKJBnl5FFSwr/wCLBmRCLqDMjaG/LHKZDvYAi4gaSElsGO/W3KJc0CMvztAAUdSd4+ceiWl8ZBzfgSoznNi+1oAt/XZ5P7wUH8cZ3Dy6/guUBtzcSZM+z+xnHaikKM+LWZbzxUTMkkssPMhndS/BiaK4cdEz9eiKvgu7D/tRzO4fpUxtIwk0ILdGY++ud6G34iNxXR5jaDgznpf8q7YyROaG3oAAAAC5AZ59dEJ/AAivJ5MpkfZo/zQA6R0nvaql/etokDh1KQBoHZlSfwPd/zqDcvSUSl9GGFAq5bsbnH5VFK8/dxsJn9WkFBnqN6loAJDpLqlEwZoJuVGoX8Tcd9BVvpW67YtKhyGdmUJGXKR3v5d8pBMLJi6W7Xam9rZUA3lrzp8jCylAEL/01NoDWhZaybTrp2YJ3RBIqVDdbAghiG1RVWlaYmCK1G0GbcMV0uq7nUn5Dfk6HPdSQMM3ryAAAADKAZ5/akJ/AAiuirsIQc5PfVwYG2wXGVwA4Mh9ol/f6gtaJ/vCXtRjBiRYBb3ATdcg+2ZymXRjVvpyHXLZ1Bple+QJwxd/rLscT95LpY81waOqHgjIlvgTj/CnAJ6jrf0dn5Big6MTkY9hhmVxgYgs7dMv/dluT2GcPXZw8NTMPjhAlE8ENBgwnLW1RoWuX/GCDKc5cCHwDaZNYVABdfDc2tRlnbYBgWmlBll1B8oQKGwwDCfKZIhBKfB+AFmxw9xSN+8JW/P0E87DuwAAAQVBmmRJqEFsmUwIb//+p4QACC3ovdDwFgANAeFVJ7oEhRK8Wgp8y87XPO9SIj13n8uFwcH+2WhTMvFO6o1jlk4OqEjfif0zu7xLgcQhGn9X3vXAQhXXCKbI+WYz/wXNaouoI63THBfZeXLhQtnKLt20P06ZZe5iSF80Dz585Slf5Qv6ca4AHaUv78y35KgF+OOZ3Xay5MrOTLZnQTyl+pXNqM5gJa+WSoEud2QdGZBs5WR3P9+bDJSjqM6vDTRAm8zWDAtxjjDqEkbJBixi9xmAH/xK02/FGtKGakjDJ34sTSlJwB4VPSLZXNqeDHqEtQDNjb6UaSGW792DIUn+vPyOoPUARcAAAAC3QZ6CRRUsK/8AiwZkQi6h0el0RVA0VNEiIjk+hXUlo9lBn8AJyAQsEmkULCokN4QBEfYm3mlUdvIwqzChELT/+1dFb5SArd3kFeMMvgygNgqaHZ0FJb/0Q8ioaZ9oaeWsKS1jC7ZiRzabRtFAQD6yBELt6UWYl+2tB9P31I8UgbiTpQCg6wJNghP5J7wk6t81A5M5P42u0JahSxSa1Uj7/k0m4neP2HzNI/ESZL3CT8QjMRCp7LphAAAAsAGeoXRCfwAIjukrtXjFDV9wBEfYioJG7XZW8Kmgev+nXEkElhBoWH/lnRUySfKgKfutjvp+/0tHOZqSUVUO//k6ka/dn/H2i2fd1+M3CB7X05ayAJk6rsd+904FI2qE/DkVAyqQnjq0MuhBPvZidmx/gE2bgmdrSODbVyhq+2qgmJ+qJvHW30fdpCbVXrVC883iU4K8m3JJl1L7DwVcp2yep+BBeuqfOwIHIggOWOOmAAAAowGeo2pCfwAIq7PhgASzoU0l7IEzihJSIv/ikFzn4WsupZn9Z2etY2AFJwQyF51s14WQBj9f/t1y91DJ4BK2NNkrj+rkmEIP8F+5B9P4bnBIdXKZPp5Y5Mwzo/kDhcwENRbMDwtMnykM98Zz9mxgMvdBzXefOEJwOQOQqpDyJJ5lrsvRk7YIcI+1FFI0x/kcYtJ4RrIbdXlPeYo/pcFKJBuHxbUAAAEaQZqoSahBbJlMCG///qeEAAgrVgxoAEY0NtoOryCwjNKW46BLm86KTf2HpEZLD5ToyrixXL64aOA1EiuM12YxaFjtorR3QLEf1MEpctcMZZIYU97VwRYGV2qU9H6thL43qV5ipoK9ZDQHuUAkO5TrpepKyPwQmF6zyOHzmiVSg4TmWwsnlpKcvvFK5YoL6YMgYmdPuSN7H1DUADvqWoYEZMBJjH1bQzDh3u8PxsvZ6OOwNFKJhQKojX8eDpO3YdXYDtn60Oy46Gze+fej07FUZWANTrpi+8tIXgT4LKSZPz4y4tzKI6cNMQMJLFDgylL/FQACHbFBYjIkOUDDp93i2xlzE7/2ATuOnPPRS+Ur4HzCl55ewdmssB8xAAAArkGexkUVLCv/AIsGZEIuoXAnCEgYc5PXY3U0B/sP1ACVMAxH6O1aMsgiNtK3dze2CyHC+PRnmalmw8QH/dJQYRWcmsSYYEO1R3nov9Mn+fHq0iRtICa2s5ihBboXZ3BQj4IlaM9HJ1ieY0DWxVA9DNyZLD2/Q+Rv1uc4zzF3bKaW53w3sABvN8Y4JHKpxbiGyzS2qE/vQWOeUUvYq13mSnachjI0JextIJpwhV/EdwAAAHYBnuV0Qn8ACG9IP2lxKKN2FJuyn8Xt15/im7pZ+JZ9a+1O7vABbOIh9RyjjDGNmH3Pp090nMoeaE4eOsPQAg4ed6ewO6Smi5BcWW+aczQbhLEfm/7pomLHGZNrPngn2p2zOX/khU5yeAs90WCCyNogyAFQAltBAAAAeQGe52pCfwAInCAM6Z1c8j9tQEwDC1gAE4vAtc4PyeCmN59W9taW/IljU8djCeGBQHrtmVhBRswng+dGlkLhffNQV3VqPL3Qhtn+CZ291/vPdcYFvUKEdhdVGNo2Zq7IxCi4MIlnEMG1QMSFnP4uPXBfYYFvWg5sRFwAAADoQZrsSahBbJlMCG///qeEAAguV7ajQRyBT7xFCLRvtLKz3g6t9fYR/rwhEwLmmptmVe8quLebwnPdpS0IPLh4Wj6mqrBGolxNMQtUeGitS0cugVs+Y0YeN1O3sFKqPXGY/sJgs6hA+IKMUvcmtlBxYajkg/bwTlwIvLmGe8nHGoVr4iB0oENLxauYAebalbf8WzxftfRv8Zku4oOgxPrkcUxVN/kJtH+B121F+QAzW/2cH9sBjpXEWcxT3L9ohlgoY3j2uWd/Ufkt0DGsS25cwSBkTo0Wjf4xnOApj2Jhr4fTenejFxLB/gAAAGxBnwpFFSwr/wCLBmRCLqBGeCbbJSK0C+jajjw8M0toABdRUu922l3GHglIN5iREu+fVh4huptyenw2Udy4dmxftkS1/mWWh8fGxqc/n4FdxVOeVQyUkkDLAMv5l5mHtzv01Z6E5DD++w5VebUAAABpAZ8pdEJ/AAinPcKl4ysGXeQ3HelTHxZFnxRj32nhMTfuoAPnKvcH62uRDGZgsgN1xJf1HPp/n3AGIaw0qJ4gJeOhpplT8CpMxJ4z/4p2iroXSJ0L3L8FURGSsWPYewrao5SR1cIwloOAAAAAPQGfK2pCfwAIraTjgb0UD2VwV/aBIdTGbabsi+EsIYVO+fBz/+KDbleQ5g1UQghJajpFP88JtXYGgE7cxOAAAACvQZswSahBbJlMCG///qeEAAg3Te0c3lDz769OsBzwCs+9agBa/m0KuSAEMPQzJzQ26gXF8wKNzJIrtGajrEARHZCSFMbYyoXgry69RM27gmFhyGMqbE2XEpMMOr21L83N9Uc+f1ag8n9T+qLtqeHL//M/OzrQfZhK7B8y2WWbLx6WS2PQiIX9MWSG+2jGAWoR+yWa1hFqz/Eak3ylcKBGifj2aBhSdCuAZj1tT4uhOwAAAGFBn05FFSwr/wCLBmRCLqGo++nWuD974YwUaQBBVPWN/CfuG7mo3nqLy5DgmBpK6H4l38lsKllafQjtXiuzbNFxzKXRWi3vEOE2putwp/ZhXI0GLefkhSWlU8oBRWVFdcYvAAAAQgGfbXRCfwAIq0zeqd0ARaUciN2Srvjn5EW2g9LSNvdMWMkCnj5ZlDotoT/MxuRxRHgOM1L3wLSWApKaVI2S4UKUkQAAAEkBn29qQn8ACCxUb8bZ1qkVq8jhqD4IvmBAnKbsofSABNBXHCv18vRJMplfKDP9rVw015hhJ2yIouBYoIHIBtyojEli52uu98EPAAAAnEGbc0moQWyZTAhv//6nhAADIvQPa5AAHCn14am9X2xKVtWn7hhIGamXfWBIrotbYE3BYF6gcU0BeMCL3lHzIsAhdVP2HxW3OzNnigUmUDYYbSu/MHXOv2WlSdIkmicEsB+2OqN+0N8+Thiv8dOOAywVEy0UJplfuB5cbUhvzW5OoI30iUl+asbpBulJFWnJhbcOQv5Doo2g64AFNAAAAFtBn5FFFSwr/wCLBmRCLp0CWqbJSQ5UAH5FOOxO+ymoQAND8navMiSMZUPGitTPAuL9W05AWYGVgA3gP+PXit2pRp+V6lgIHqaOFIBpWyciaTG+jLvgAcYOfQN7AAAAQgGfsmpCfwAILFRvxBpEccH2ZC6deiAuFIMi/ue7riQa4APb6Cr396zFRy2LkG2ta8Eo+YcF6gGtC4L9VfPNevQ29AAAAUdBm7dJqEFsmUwIb//+p4QAAyOHJkQ9Att21Sa+LzzRD/tcHD4G6UHcrj39dvLblH9VIqPvN8acqZVk5eMTt94IHarth984H+2m9l5D+kd9PrmFMbApOCL/5EWSu+rgu8KnlS778ozSRXd+4q8dO9waUo73DyDAB1j6b3pgXbPWWdxVEP60gp2o8vzwtiDNaN+DpN66E5rzNEctAG1W4bdRXysW7ft/l1CEDRxTj0N1PxjX9QQH+DM/97FXmG7YdyIePdc0VKbRFLVZTiK8UNrHc9/Qat+TdWJT8MhAzRsQCDTTbgo4kXno6yOq3fxNA9/wd/z2qQB7wDS9dNmo2oRyrZt43spplTrc6k+/nCI2xtqqLlue/0d4LMkIN1F8i/8QrqHJUII8hXj3IeRIPqb/Ty8HPHXWh2vmylBRgCoFsJNX/jrx4RMAAABkQZ/VRRUsK/8AiwZkQi6Fi/sHe/tms47z/GBJ+huRZyGaAHIPTRHQ1X7AcPqO2nm6uQ7P6lQgVHOpIKKA1gSTmfwqCToYlfiIglQPhznXO8vhnOQj8X87sU/8+yUrJr1YfZ4h4QAAADMBn/R0Qn8AA0wXYf/tL8ucdyPKh3sz2h2D8n/WsfVr/zV6s7LCm15dbqpnEVW2E4VGjXcAAABuAZ/2akJ/AANM6Qiv/qf5SYQAcbyuyXL5nF8jl/o97GNo/ENIahW6jIiBexjZLGjOv1JrQ5HBoJGMF7utt8OycQH2pG+j22n1mC7bp6aGdK67CFyI/OzGG5R6c8T1KaELScSB6WG0BZIsbB5AkbUAAAFrQZv7SahBbJlMCG///qeEAAL/wnmawQXdK5Ra9dqAFsHvSb5fJGyg4gRLtPh6S6aXAwOTtiSV7cLCtc7y4cRePFVNfY+zrxH3BGotbQcKR3h6A/CIIgoCnHdJyRwXQTgwYSK4RIYr7/gtdtTbPKZc/ImJPESY1S9Oa7hskDjyOaolvRsi1hELBf2KoZq+D9IFHse2umYnPjKKPxpTBRGKEwnuD8Ol5lgO1RTYX2vNbAociZdYHF/hCisFxZNUI/W23JKieAo+7r+3AM195RoXCoFvykCl2qRVvlcXeEEhDJQXPh6RXY5kKCNrxHXZVnsfCi8SmG8JpzDZxBQ4Sw+7nOuapaRvCv5Zn4to4jhs/7P/Jwq//XLk1vp1Y6q3WHgJR1dIpDcatauf5Q7yeKDIdMuKyfY2Njm3gNNsMJo29h2XweyvpmYfGwz1KdW+Pgt24bVkj1ckqgVZuUDsL6oEcU6lNZQ5gpvaAIeBAAAAvkGeGUUVLCv/AIsGZEIuhWFM1sBCQAsPnCpWNLmHMe+ziU0zhrq9GuIPOLtgQwB7rs22nqgZRjuMhnzY+B+FqVODkX0qvPDi7QlrPHhi6YvXGOG41LYMw78sGU2+HmqVjOky1Ef6txjCKty2UpbK48if1vLd7ZXVvRtMA6z9A2KhU/6BAS6CvnedR9h7I5ZiFGfodZP3axwoEB7ovfsZpGHMWO/+q0fXxG5tRQK21Y10icj3TUxWKRmnmxgAs4AAAAC6AZ44dEJ/AAMj5PjwNwBWpmcZy8pWHNDjIcOcym0GqLd4/OI6E6Isx6c2juvRtSiDDHZS3x8m7FttwcFxcHWHV3YA7LbQsX0X8uK+/d08tA/fRXd2SMuZlPOTJCVJQYJ9mCa5AYuDm6xosrhn6XKy+RIgFN9onqpgldEE1KRGRDZEoptPnATjjoiWkNhWkfSJQnMSJVRCLJE5GrS/fOG7R3lOgw5zcqXVhy9OCkUFIpqYOEteygPHFLSBAAAAtAGeOmpCfwAC6Mu+sAC/wUO85NPKeR5Ah0oUFeeJHsXHETW3JGfEhbJcUKgyG4/Er4YCjall+0J6UVvNvVh7ltfc0lXRWqm7GB4Jbg/yTBBeQYheRbTi69kQdJR+yNQsv6p3AsS8/oHlSD8hoU7heFY8pDl9duXT+fl9kFxRYke2GF0mKdZiEZBgeC4mJHRDJ2pDj3GpyIGzuqY5iinOc2PxNz1OSQ2zWa4cMvx7YuGxm4xmfAAAAOdBmj1JqEFsmUwUTDf//qeEAAKj7woP3tPV9sAdIsV03S1pOl5FMGo+CQEdcspqA4o8W26yiTeNp97yRHNbNrFw0iSoiUnoMndWapamYAbRSMrVOKWLA/k4Rd15xjptNKNRx4xRKQVYtNLHmCIr32mZyf+LfNXo5Ef69UQE/AyQU+b3zCKvEkUsBUkCJsq46ztZlJw/TQOnOIIQH0qIl7yRIDFytWB1pyRLNdcrI47qi71JgMIS5hvj34I8T6pIOF7DADcv0LRArAUAtdrNMEJywKgYOx8CSbk0D7wevQKK1hY37YQ4FJEAAACYAZ5cakJ/ALX5v2auVbKwZ7VdIHEgAWhHyxCDRzOPlSr5elDgQ3SxGPJbaWSaQzDBPm99xoLySSLbb7OKVQdHQ4/TJNMRBFGkbbb4CfSAOqDTHx6GMkZtRA4jA0GCOMCY172xHF9FX2Wm141CfZdvR/Ucq6+PRwx7z03vHgNK+fi9LB8BNtN27uMbAPiZ8HXyXW9S3A8N160AAAEtQZpBSeEKUmUwIb/+p4QAAS7pt0yyelv/si9kyT1juxfuXW4RvYg6FyypCohN8PHc9YWTThNN1L7s39hQbiCssJ52ivPqR6p0EBSwwDps+zaoV304+dpZY/mrHtZQ+4Yzvu9SUB/PYPweSLB/LkQTOoJaynzxJsPqeqUzCwXvsdl0l+1QKvQ69hQlDfbJqF4dooffHnVK+YTxr44x0nFRQbQi/0ZLILZ0uRqapC+r3Z2l5iAgrG+rKTc1LtwsuHIyQgJHOB1ktgoFvR/cSMeICcux3spvaCF/3Y9xP8A81pbjw7rdKdb2Q66LsBWgm5yjEDNbUmH/5ihVStzIdxgOM3kS0UOzEXg1D9RCYLDCCwPgDfVMPTsX5i+0Rj8+MEgs4WZ6ZZkZiR7p3S1vdAAAAM1Bnn9FNEwr/wCK+sTMMcQhRnX+Oq726IARkdDQxf/Z9mBo2hwFO52waTY89/n9FybukcLT1kiqzgsrAQPyLrnS0sz+6noz3C3iVxoY5Hr5UFSv9ZiekhqBKJez4nHNKo83PWdtEc3Rxs6k/3TerLg3iFyV7iDqGUj1JUBRBnsRcY8DALDmab5dHtjJ2G8LAKAlv1FzonixxfFHDucYIq7/g6WAdeSSOZLatknKVtUlwYjArMFcfvODwufRIGHt8o5dY4ciU26+VKdZqBO4AAAAfgGennRCfwABPosODHlx7oN1wgBYBylXVf0qUccV7q9T4asjo08XRreb0CEYekwiZQguD/MaFX2e9CX2Y1rOf75e2tV9Ds5CElP8/pvNKNwmSMJUjr0XY7RlQCjLSXNzR506qDYn9MFoVc3OkaN9kKn/1QrDpqnEPosQDlojpwAAAKYBnoBqQn8AAT5nyogq/+BWZvl5YgC+I1dH+chJd0skIvkG5y2uOLLsiUTqC7veWOtKmKmYtZf10YCUCEteHCDKi36oWqmN55ySw2w+Z1/ykHdrp0QZF8UPIUhr4JGPDLNiwc5UvM+vd0HGLpcwjRY9xWnPwBJfuosiQF75N1zSgd/gn8keknfnJ+BFWo2RZ9MJk1S+ChcjbTCMFhNr8RiLkYIpm+44AAABB0GahUmoQWiZTAhv//6nhAAAcQMLKH2QBWmxeapGa7hN7Dh6oKDsH5+qchgTTnoRe0dh1S7wuJtjy7eF+0MRrGcikTyj+RxgpxdjYAuIoxruQYbA144ClelzTpVot1yC7q0TQcORci40MekOUWn91y+KoDQxBdVncXFdfsDH4Uq6RnBs0F+d/6oBvgWY2OwPduJIJluYp1ebngYEkSXJoZACZ4QyNIIbglv7PaNqX4A3fNOvuQdgWUS8dGUbrLtx7jQ2E0d/2vM2TNadLpjgi9JQRuBNURRGutep2WlRofxvWWilOnEfHIfZx8XSrdu+DctjdIn0K+5Ywq3aklmOdG/tQwzTgN6BAAAAx0Geo0URLCv/AIsGZEIugwD1rkSVe57ST6pCrtri0j1zFAAuLrTOK+y2N2PcqO3JIdYL4IQ9JMNRDrvHWggJwOEjbLgMUAIb5BrZ6NUdrxm8kuYO7sz9pqLH8rWBVjsbOZjdcTEglEBSeCHXZdpLOCdXgYABI0TMikUtGMh3AFTuOTk61VtoQkRhOw5liFpK1f3cpuNAZf0XnLOn2GITiFE73YJpuyVivlxDXZRvEji+KhfQKWECKhhZCYfjif3u4iroGdUqqLgAAADBAZ7CdEJ/AAEVamltQBDkF4FBOWie5ajQsjJBVRUEpicXQ/7S2hei3DwAkNFNc5U2+FscFyhxDBTwoaPF4pJxCTj9B74AAR8aZNMHbAavNDAr2sfcdvumMYJLyydlIvdbr55mURxgdb/oE9HKDvOM3s6vvmxA42R3WtIXoAi6GypS9ZElfgfNIaYCpzQGsSUBCm9eXrxdB7XoNAeb/gjwN0OhCc9xApB8i/VPrBJEpTqx2HH3mF2g2xlesVTgH83SSQAAAKoBnsRqQn8AARXcHGlzS5NQBqwD9Dri0qmtJAC0Ty+1FXEmRLe1BjNjYS2lAFvkmPQk8Vz8T0wph3qEETOsraYphxZE4Gyh6Dz+5Zcky20uANbqqf5ib+8huuO//cDWobb/1g9a2Rf43nQ3HqcR4MLV6yGlqtfKetAuN4OQywEi3L9OivLqlPfjuk8VcXFOWV3fvOfIdM1j9Ko2RfdprCgzTjyAg1ob9tqhnwAAAStBmslJqEFsmUwIb//+p4QAAHG4TzNYF3cfqDD10cwAH6RCiUyU3ZuilJngKrFT71JepbcVxwl8UjsSrboRVSmfU1w/obuPytRyRcwqElxsh2aeJ14TKOoAD+MvUNfymD+eBIoabDibWo8fH+cyduVnq34VatuBAZQ8lMlnM7N45oEFdvkbTUve+yiArbBAD+tQTpIiF+QYJa+NYt+H6ij5Kqb7hohK6XMvjuchngZIw2nq7ttCRQVd1AP8x1UsL6b+OPz+bJPw/KNbCwaXbzdjcbBKT0MGYeqzqhwodcTy67OAgAvHrClDFddOIzyEsBjwP4X3lziJA1HGRTT3NHNCgEfRqoBby58bpCHn45XOgxauG2mRupRO9nWxKzDmF3Cpeap4b+8j+aVhYQAAANBBnudFFSwr/wCLBmRCLoMA9a5ElewkInqoSjiY6w9CAIdHq0tJdsydip4Lk5yE3muY07mHBGg+BVh/Uy3QP1Juym0GivLyUx/YlTNN6u2DNPQkZuJtpI/rZCw6rgMED9B7S/a7zCNcyLjB0G8b6mirpSkuEWHoZyZkS3zznk2UDF6gbtceKdThc3T2eOnloBhcUFG5UJEUa6z2r8BWy2rzDuR/HPAl1CSBBAC6F//Xs5JzawgeS0NKRHTwzWZ6R9Evf9o7MXgllYC8HVIRIiXdAAAAxgGfBnRCfwABFWppbTquC5itk64IUYlHgCqRTPKWy9QA2qEWvG7J0e+FZ0cYEDG9ktTjd4DW+y6OOkfWiqgSxMiuZE/paQf/blbFGkR8d2iwUmhY4Pnv8SCQeH/rEYu2l1lB0/exQyfExnBGjItwrH0tySKqQb0Lpq823OdzexIs7lFGQcdxaumKovx9cjv6GyMCuHgAaIRm9vPCQ98U6VkFvTo/lS8ND6Q+N1eknlCDIq39A5NdZpq0E8C8DUgF+PwkIm5MqAAAAKQBnwhqQn8AARXcHGlyn59AJwByir7w4Od9CfnvFZyGMj4Kn2a2a4JkA62VMOIfj7IOFP/FMf+HmuDYR9D1eHbk/4lzWNxM3BHDbPSYzn6oNQOUgmumuEfxHwTyMhqlfwmJ3/FDh5yzZ4+SwYZOWQb4eeRhyNY8If940VCe41D0B8lolaV9zu/fSYRH0YGZ3gkicvgceQuiK6/TIv8A6/5UDgNp3AAAAPdBmw1JqEFsmUwIb//+p4QAAGd9lRSviWSkkAXt3ZCJnDHODEpdYatGsS8GGBad/ouLz6kDYOihKwofDWINNH566tbFfQ0KnknSsqYymDlx9g9kS/Hee20NnXNmGMfXJ4B/wPymvyF1AhwB0VLQ/BUUM7RoDs9OHBSwZo9DNtOdMYsaOrY0H0k/0gdhl5vX3RdcCt1q7DkgxiBv5+DxRhQaPfeY8AmRH0fd8PU0LFL6D0QbnlRvaR/YoofkTac5Vbul8JtX4oHCXl2TDNZVqQ2IdQZ8fnwtxBAxrg/2lGr0wgDg3t7+5fqUhgUDgAVu2061CCCgC6elAAAAtkGfK0UVLCv/AIsGZEIugwD1rkRud2rwM1uUAFgkW+DeDx/dnmmdW4Y5AhR3EfBINYBaa6JNcT5GOvc2b208+ZVA23+qVyv/YuJ5dBRg6uFeD38IXvnbfPlg1WBiV6ZHOqnbVxbb3wiZknCNh/q0JCcFdxFNSKZ2EsSX8PddNv/QbJLhwATfe4akiS+DWBn4YiGcLrALKQNtKeaopeNTkQ/2PpHxTbHp3Xc3OQ7xQaa/B2sKwitCAAAApgGfSnRCfwABFWppbR641LfCyACoPo5otZ7V8gfRcv8W5u4gq1sNyr9ePxHwQpkpdS2u8SNVl2MOvSnVEd8UmqwVnSJxdNgncdulUYlOMcacBiwj+KVp/SJ/iGAtNfe4vjU7eqkhuo36U/xro37ZCTdq/Du7H2UUdIqvPpB2oQy07aWShVsJcMqEIX0kRCnRhGiP9eZg1zr8vJKJARhbbtp7Qesgk4AAAACUAZ9MakJ/AAEV3BxpIu5HwBzDPOELjK3uenPUpKyPjAUP1nUECHUrF6B1L8pqpwPFxRKwEvZWG0BILGtBVBdQzrCa2cbXC1k73xf3k6jYoa2lXddKEE/okJyr/aNmvnfNvHr4EVqkXhqYBw2sRkVSW8v91B6bINV+9dabF4kaSODeT9DUNr1JtuiUvNpEOzEBHaCXgQAAAPxBm1FJqEFsmUwIb//+p4QAACtcy7Ry4fg5BeEWkaqVjJ4Ad6/eWfA+IAoZKanmthePcANCX6TMBbD8wMN5KYg0u1H6QPgDbfPxe0cuRhW/m+yVvxJso4IVj1w7BtKO7X34U//23K4545qkthdaIoPXwLvjZ0STsyOu2JJNXVeIEJU6GskMtDfNLmF0QvuQ76z5ss1rTxivLFB1oAWHgMo0RC902UjfCvhg8pEAdkhYcaa7lhZfURGhXs7y/26A5t6cvCJQFr6/QJL4JidQhKEi3lVm/9QDDt+bD/eXa825BVidu+oWo3BwufjID+Qq+q+Ww98uIq77vZyh3hEAAACdQZ9vRRUsK/8AiwZkQi6DAPWuREP4LVYlmIt/jTNQAEzzHF55nkEC17GnZkOvpOY7yDsGATL2Ei1owmw3NGUq/doDbOQzXWmox1lxFrgxc2EmjEDUcEzT11VhE3T4lb8chp+KVxVZnsVW/yIKmzrrCVnbmgnAgbgOWNG+KfZBfnsz6jou7ibLVfhxaaswTXTpYpVS6lTW1/OlhlzJlQAAALEBn450Qn8AARVqaW0EQeWuC0rs668kbcVMVuiAIfL4DFYimF8X/9y8h7DpMcRI7ua8A+6zjkMdFag7uxo9HTTrB6B58QZw4DnKYNuO2stMkDguhAdi/cD6hM7aiaVCPL2iScFaU65uE+AhKv1PN8mNmSfsTwoHq+wGUIb0VQ5kHsV85FdK0yVGAMgA3PKxMkiXC4vFxhlaOaVNPhhzfRrAkkQ2ub4oDHbmv1NL4OyL/HAAAACXAZ+QakJ/AAEV3BxpQGlPWu3qEDrIdqca/Y3cYqDLkjGGz8gBKXoGwY8d2OWnxWnGDfUTlxZL90QYEueUwpuEcKk9M3VdVCeOykoV14cU/sQJpjsz30waoe6hKuAkSughhWw80Bbc+v06tN7ZUUQZQXVSF7pagDVv8nPerGT/93heNQ2bXjLeHtxL+fWZh6tWiCqBeR2ggAAAAThBm5VJqEFsmUwIb//+p4QAAA/YYWR5kQBHra0jF/z8ityZ8uHgkAHVZu1OPO8pnjgBOtl3NaN2rCn3GoDu7+tgRC/RpfRkMkxsnVm/Qa2Xs9sjSUg47IiYyTKGN5dU4pm6CPrvvo0slvWd66pN+2gt63r/FGRcwBlqUcyqoNujjAs0jijPavIMKbya70KxYdrSqqYxlgP9Eoeh2IquWXEMJdPi6IEnC8AWS01JuePOLxkL8YS/Du+6XyEDGKurqjFCBOt+qud4HVo8zwzVHN2ZLEd2qTmIx2vfA228S7M4OfihalSU9J3J6AvSrfKo5J3VQyhniz7Q3AwYxRHL9s1AhJbIZuO83ypPGQJuuXQTJg5OxiDKInJajeWGXuivI6QwwCLQjD0HMr5TUg+a8OyPfM/3mibIgsEAAACxQZ+zRRUsK/8AiwZkQi6DAPWuREHw/AQLVFvBNFX0sKwOXSX/Yq2lk+WtYiBccyZM9/TVautIRKwc8sSvA3QAfuxmthi8tYg6PpSfRnWyiOCZj0O1PhCvySwAtPmsDQWHfxbd00S8pa2mImx/CsrfLxkeG5DW02eINJrjfcu5PHx0hG4Ld++R3NkrKsmvWZoEFoH0DS90YmuHrmRKZWcgqzZklDNvxyo5b8FR4YYWZDXcAAAApAGf0nRCfwABFWppbQNU5Gm4PxM+VItP0/r9PhBWADhvuS+eeHV2E2xEvtR3xWuIx5Wv2A1qx/OHMf7rBv9Wo36eO/zy2uK6t9MIkvBlKxvlTDTop4NGEPPMmjyW0sveHScGPltj9fGCFGACyB/bPuBq8CGnQfXEV6J7MDOGX4E/Gm9PW1lXsAdncRvlJSk9e5WBqAAIQvTQ7itdzP38r8LOIm1IAAAA5gGf1GpCfwABFdwcaT+uzzdM2SsYLHVHK6mL3LtenIGvzK3Lv1rmVAB9U6e0Q9R1eV+b+gwbXb5ArlodejlkyHvI7TB3eLtj/+IQPvLktFmpIV6FOCqrn0jIkegoxla9G1Qzx5H4iUVrpwxkRuFtKynzkdaii/u4MW9+o598F/h9S+jfQqNB3I3MhbpE5TDuGCdy4h80vfB+tpA7+vYW/2ZdWuaT24KgyM6wQDJNh+K1RIa7z5sPs7r4IZbZL1ogK6FPh//nzaOJhd85aOeaovKGfK5oZdza39RmS0yttkbArYCxN0tpAAABN0Gb2UmoQWyZTAhv//6nhAAAEG6b2jm8odTO73HwXt3/+BTd+YxqOSyi8ByR1q5YwIeMt7XrWGGbndy2CbpYX1/oCnZH1LKw4IwVjVPGY9rNffACu5sHIbWbOw30DbYHZCPcO6bjaR8U0xAeJuRWDOFe+2XU7bXkMg1Svk44RsMw2r146KCCsdsSGejsB+qhk30yVVItv+ulh/SMPSOBU24i1kvO9TDbI/JK7DoOlA0PluVYFzIOYCQAxIEyyDf6EwOBmAx1F4P9J0iz1JRLjy7OCKVGaoaK0Ns36RaKtMBbZ1BzeNpUMkJCOaNM3Ihpya261nOTAobn5QT3Sy6ZxYKyzrXOqrZb2mxEYgSVZGa85kM4+l9prdyJHfJlv2XzELPIskjDCHa+t5Ty3lEq20i9fbN15Y5TAAAArkGf90UVLCv/AIsGZEIugwD1rkRB8Pxtu3htFJYSebMpkoSY0U2R725kAPkyhre6Mm+nnkd/aB5jG2Inf/va6wrUQOdKOG3e7ABnmLeoPTD6qx6ppllR2/Fv893jYRpSD8LklMenjaPSfZjuoSU1jwZKfS6f5Za9t4c60JcPrH8wYRfghS9eJX4cgyvYLmLw67w34WhzIsqEUozhwRtWYczbTiw8gw3bx8cA7h86YQAAAOsBnhZ0Qn8AARVqaW0DVOSVHHiswpaUFTUf34vAu8AJlzdK5PZG9LtlIIlP6Z4VJPi8c88/AhHxALE4X4703Ti2boUF7qdFP+I6xZguIsihAjg6WysdFWz0dKCs5lJyr78x30LCY+RvvOW1zyfWG/s4DAwUC+cKJjPls5Nl/8sHWpngP0OQ/O6X+Dcfkji5RozsHLu+gXMSvFBmZ8WBcy7L0XrglJog1ieAjleMHU97QAFaGss7msyFPpncaWbpM2HLOYfBuGydUsr3C0YY7DSJnqh6uYPRRjiEkGcnC+513PMQKHPE+gCh7xxxAAAAzQGeGGpCfwABFdwcaT+uzubnE90K1fcG46UYoqPaAFt84X7yndJR/ADgm/6RFtWWC49kzTNXIWR+KK3uBvonc4XTSyFeLGQswm60bjiOpSW6btyf2y3XLchpaSBjpEiIZpd5kzADRlyznVJWWyW1WVnRSyJ51E8gsRvNK/ulBTkAfJ9N+REeUM7k3mQ4jOiSt53Mfu+CEORmLgLcfliFsn5v+riS0XoXhNhEfFyjBAuSPDOG/35eUmNpMMMtVcd1vRuACy5OjsfgAuGQ1oAAAAFfQZodSahBbJlMCG///qeEAAAON7KirLUV1mhxxJ8KXZf3eleC61bMOPTW5R71FXAfUpm/diAjCfvw7h9Q/gF1fsKck//O8t1citNL7r18Fb0fO7jU2CHByHyiRUuNTP1eAu4LHFQRaA3xdsrhwQ67Sp/tZWZL8ZghHwZdUEJ+CkpdD6yIG8DXBQ3utkyYxob5TwjKPuixTYaXWKovWOQyexxF+SsOkAbJW7Wpz4VOdinXUx7/+MH755An+AltjfNmUB1zV/9Y57BAbnAgdPdYVuuPx74IPll4KsqxjibLmG70HCBsJmjhdy16O0XKJYmuDw3b7GrxzbbFeXvTEEGV46Ofor5jV4yAb4aD2V53CtFDfVfbTA1qukiM4PlOYdkOxYFZ4WaV4efYZokFi4VuMiskZbh2WLwikN2KYhHlCPpux2XjhDlExud3onqWVmUJgNyfEmmD4NrgP74+gBMxAAAA20GeO0UVLCv/AIsGZEIugwD1rkRB8Pp3Gv6MQJff8sBPWNuyGfsY6gM3usfXMwblJmBs9S0XYhdRSzTTE6jR/8/5PbvA0V5mPZuknuUP/l08kOZDaSyyQzw7Nz2b0h3hCENFpbnLt2y7UlaSf1Ea0wNu36NllPTiSXJMQKw3QbcEiDeyNlO4NSDbV6n+WrVtEhU62ltSn73pwBPyCl//iMR4sZx0EjA2nTKI/1w1Vu98joR+UEpIg0UliOqlw2yypvqKQP4Gfr2TqDWGole6Rd/F8JtgJ5fNGbO5GAAAAIQBnlp0Qn8AARVqaW0DVOOpvTWkwERKDzEcXaoE/3EADi8jKRXk3LHQ3rRdZvMf/z/dbZvvlqT9hdps05/xIw+5inFjt8pPPXwxFLDKWyNZEqSTp2TyWPvSjtJ3g+GqF8piIHLZwUAgLJJEr0NTXY8UkVZlVNVTKk2jD12YbGpsQJIgHNEAAADaAZ5cakJ/AAEV3BxpP67OxMR1fxP7DQ7Q0JNOUAEe8QY5SEAFt+tN1TJyMPxFS6xLZ7fKvt0voVed9kzyMQ/L8HOEMSYFTGG6cZDImt4PGCpUw7QB6Vx4XEf5fZck2/ifeigPYgndEq+e+LroiBPvhRRO6/ygR6wYaLPU0ZLZAc7Xjz4VbaNyQ0HmOz40E4SSl9xUr1JUFcm7zgigHNj1d45XuUgmketQErx9xtIF1CwpQNk9ORPIHjJFY7rBZjoZ+/MuHgDTXA77Ya0x7VRltOfLDHEv2I3vv+EAAAD2QZpBSahBbJlMCG///qeEAAAGT4TOlXeOTjtScu0til9k9mIONyAHF2GRQw4beW2EQDKem7tBZAzW/fG3BLHmFPTsEMJ9JcJ0A6mG160ucRQgVmc7m2vPW2toW3LduMDqsgA3eUCTXVyMxuFpMSPqxsBVgumBTY60vKGWTEcnBAbc4qsFwXQBAppn9pBwAXw3n90tIXiSpDOO+4nc4lwVbJeFefL/yHIVyu1iqDKq/mLmTitMXAiSkcsFnxpCrIIbKk1gmwv5StqOyqshbFePnoqhsVTxiHBfTWRVU85z1Svb9QC6WywXCR2QdiTSIUwsqVyfPPVMAAAA1kGef0UVLCv/AIsGZEIugwD1rkRB8Pob1gB7FOXzNfzrmrNKABqQCYnsa5+TaRpF8jDdxs/uH0c94bwzCmN6VjEuoH6rLvc1EVEa1OXEN/pR5YwIUeNRM8XIopCTWpyzxejIXe4+tNFkO0gRIhGyO+HOXrlgZaGUjuEAy2qSlCzZIRdbpBoBCVWjuBBEOXMUlCx0yuy8WuomUT/B1CP2A481T73QLQS4EuiX2udDG/h8oQ5XZSTbJivuIY4uqgA8VW4I1RN68iEcgegaB/13h7KxhTseBYAAAACiAZ6edEJ/AAEVamltA1Tjhfg7OPzglUARS5jovjY6+pGCw7UAfkCrYXl8GoPisxstgjCFWpdWP3H2xC4g+z7iWJ0pNQGKnK7O82epYZnDmStxL7lNS2AGYNS+NWM3MJ+RomBijzSRmme29nn8qXCL/ljGohhQ3U8TE5CIK5oPcn09ZSUAzWxyKDgcm9kQhw+a4eugM4f8BWvwrIe0NnHRPFfBAAAAewGegGpCfwABFdwcaT+uzsTEbKh/0hUctS9DFdF3dB8eq82HwOAG5p84NPM1y5xYEkv1erQcyMvg+adDFc+MwuHWLwBEH4t9ku1B5Oz6qUm8Kr4orip9HArShit0Gitcmevsl3byAYYhEMxhqRf6hrXOYS/fc/58qsaCwAAAAN9BmoVJqEFsmUwIb//+p4QAAAMCWpgYNvIAU/qphgBq7gVDgx0Z8o83EumGliS10OsVWYFTmu+Yi3aYdpM0vsWn+Pn/iHblYRTOWViTJ5P2916zFVGpG/NtTplqvTVVguytz5ZJmeOLq8/hK5nxxQE8T9xVGvY0OwKjaph5AVRRoX9jUvl6BF9SQooHHFP484IhPYoQUkZedPIzx7VkNQ54lmSjlAzumxR30P9rnobIH/LXjTt0jrT81JxEdT3L2b3s01GMJ3THS37rAcJPKUXoEyxytH2M5tLCQn4JXgI3AAAA0UGeo0UVLCv/AIsGZEIugwD1rkRB8Pob1I07FBanodtely4UoASn6ED+inQjSkrxnvUMUvV0qhhMNAijQ86Wv1+4maf+mmE0BpGP0ZPtmzL5iuhcXvZ/cHt0+iDNb+/EIeBokzTzd9N/0ZYIQlMRkfgoUWnmixqIndCgBOALxgRh/J7Hzin3/zFCaUBm2Ta8JOgwFy7zRnrxdtDese6AlPFdvCMxgAVI911YtnenAS3bxIknW1aG32TBEN6vMofr8/1yUmyRQSyDu7yQc/QnTeqYAAAAmwGewnRCfwABFWppbQNU44X37p1RYfA2V5RefLY4a++6HAAFh7P5iX5fuMdojqVo3z9LBzCHYLjHndExYeAEcfu5ShFLDknktdXW7vfbV3t2+JE6XfkQjWWX3lyfyP6y8A7ZNg6+0sGr8gMWAgAPw41lOmJ9XMbj4Z3WJVUyXT2Be8H3beZkJC2XwWmR2xeZefRAmYuOZjFkJVxxAAAAmwGexGpCfwABFdwcaT+uzsTEVsnPrxkgf7DPpO9kAq0DuuIhXxND8YABxsvDn/FqH5mikFM9APrYW2nVQf23I0igYWpEzbc5VdaiotAn9+f/T7iCqKieyJXdWFPRD2qCL91gOiWzptLk75Od3mypeWNDyTeo6MLHLp13fdpQCW1pGcuIP0Aan6Cxl91x/UVwLiVH9iR06vdvwhOBAAABOkGayUmoQWyZTAhv//6nhAAAAwJ/v74KN/cAJprWa9zUSVVX/pIZI0slWD+35Fh39eN6c5oIZ61ERsOrcxbBEB8ge7QPPJS5Qb/BuFGw6oOC1MVjU1f0dh1zg0yOZy8J3AppB0QI8prltxjwmbnuQm/+xjCRgp0splZbfmXo1mMHhwcRUa9Z9/F4+cU+h+gGE0aLHkfGmDfVv3AL+CFhW6rhuSCWn3AS9/wbf46A5DJNBiHodehtbz3WdaZCEZjzhcK0B+UFUZ0aMooPt//THdHbKJgieCuVor7wPnJtlFxXGAZe7f0Un4smUp77JZTCDYqUxOYt/kgRV1ZEOJguvPeuQfuq8Lo8FHXckMRaDbdKXW/Euda/qs+ASfvc2D/dNTSr0NBYWDWpNO1+6UBaI2IOIeCTAW5FpgWfAAAAwUGe50UVLCv/AIsGZEIugwD1rkRB8Pob1I07Pj2MfCDyMEAHG830JRW63761mGDfIRHSNzo3wODVGSBM1bATz1GL+se9ogjqCOpSWJa8vUxFTRMbp/xJd0mji9nxR2SegEKG9+1idFqrlzTihHEkLZRv6jsjP9jGcmMbyxygeVrF6Lfm4Zxyci524y3SREzdsQtSc+8m/5pBCqLWxiC/6qLHFAMKDjZmnXQjs3tw///fpqYfdgBsTQASannDsJJp5W0AAACIAZ8GdEJ/AAEVamltA1TjhffunVIb2OjR6ppBSNCpm9RWxQMWwEAASf+UduBSXIXyK4QKNGGtYsk1HnWPeKizqfWl/255c15pqGhBEpyDy+RdeBKBWnJfhGQxbBuwLoKB0TpWI3WkWVm5NRGGPT9nT9zT2R+plFdSkR+PYodWfRQEq4O0RMN8wAAAAJcBnwhqQn8AARXcHGk/rs7ExFbJ2MVZ4QAjAquV0jwGiS0WXBasBJyNxScknh49cBdNhmh+0NpHFWEVOu9rlDFBlQZx0wa1CKgk3zD/P9aaH+5rnCzbXelP9hRPdRNhQnQHqkXtN0t2AKupTdRvwGdurmBUGPmUZ+Mr7T++F0wya0hDF/0TcaK+csXKOWTwddC+HmKH0JuAAAABAUGbDUmoQWyZTAhv//6nhAAAAwJ/7wqzf/D+3Mrh5ACV3Gb6XFcjAQu9czmTCk98j+wqkDQR8DtdGyJKuIP1bgNlKuqpi5SSJAjHpiN3QiaXcS7IisuK77GyxNSLU6aGbxGS7h16Gg9t9n/LtAaMxgWWpx6vWvFoNR/B8I5es9vRliqyJ/VHJPnr9DKj5CLxT4opglODw1a/WmhQxYCjgUca4uGzA0zJ3XO8BIDZn8OohEOBzh4806Hug0DzL12em63OvjtwRrXY1vlYX2eGtuals3PrmACzMdZiIbFn+GoR1hCJwKdODZZrXWeh8rHvVLi3ULZIIf+PpJMlmr67qDndAAAAuEGfK0UVLCv/AIsGZEIugwD1rkRB8Pob1I07V8/WATXyqA3P5We2KslFi7YpQ7lVRuhw2ct9f30+FnGXq/ycVfOE/MpV8+5xVMzU3V9Cv19D7SqCTEjEu0J8woD3nn729mTrnj9LWeLpditjmqQ5wlD2UKXIgW3AbXbka1dLrrwo7IOBcEbYg3Uxp6sRueG7TeqbiUwkWMdgi4MZWKJWDzhNRe0pML885eS+sLwYn98NYQ4C+BQkCXgAAAC5AZ9KdEJ/AAEVamltA1TjhffunYMN5AgCDzS6MvVbNgZ0c1frPB7v5Jr+1QprsyfSmEP0iFokC0jy658nlZbZqDNXq3N5UxWDSA7dhQjZ+b4SC5qgMCT6Ii/XspLc2nCr+3xG66B9ecgErREifdMJwptxP3Ngg2lp1JRw3SABXv8YVu3lX/1eEUt2QvMwvYsal4F1+QWkJI0kpj5Hc/jg1lZVRLPk7VBCTNlP+X0Ii6psLDFD1PVdhA8AAACiAZ9MakJ/AAEV3BxpP67OxMRWyeRvTABt+V+qiH9oAC8SshDlA5j7GNTv2jCEjJI+oVcmrmDlPWlj5wyV1Hm+R7yvAhwqpvDzuq0n8HEhLcZXZpyGa3uoyL1iCyZEGQzkTBU4RBhffVxdU//mLhp6UIYpYCxo8vLeFKhVHWfdENqUVcd83el0irKJ48+dYG5VMkPFhMO74JkvmejBPrVqNWhdAAAAvkGbUUmoQWyZTAhv//6nhAAAAwD5eypg3bpESFOvYS5J30K3Cb6Om9Dfwt6xiAONm/+nHtG3U4sHpC2eUPnv+kSPztIDDUPEqZmgfWkwPdq59nU8lPsGkUcRYG/p7EL1D0zeNu5f2h7r/4HkFtrUK/wkFrjDc/5IZ/53l0mAAC2FRF2+LjIBaan1PPxjPHD4+oSrwNPzvYL4skYpH/HiO9ibRY7ha9h6ivMFjKdTbCRih73ytbFpWiP48wVrNvUAAADBQZ9vRRUsK/8AiwZkQi6DAPWuREHw+hvUjTsoO2rS73YA5f2a6nysyNggYaYuP5KY7Vjopgc1Vuhi2GoXax4N+aiYsEEw8KVfc2ySPmlzlmfW+B459u9MgeWFJe+YazwB5/rDfH1z6qWX55+UJdAJ3kO6dkbJ4Q+uATsn/QulS0TLPvRm+3f6tiD9q/ygK6R8O+hJFOZZN8ucliC9DIohoxzu709/ZqFRRpF27mwMzzaSlzmNE9F72yEFTFd9TzpmQQAAAJEBn450Qn8AARVqaW0DVOOF9+6dTyr1ilX2aATXiGUiuLYqZ5/WcGCxHQjwyH2yE0DNF1PJtg9IYd5p4ldcBQEUNlDTT6tzOqzTN1tzo4Ztb4q+/1xG40TYvQCta1TiQZEruKNqcgo3xGrHA2SA4kJlX7muBZSiej9rVf0UFN8ZUsxd30r3qDp0SPrA3gAkf5BcAAAAkwGfkGpCfwABFdwcaT+uzsTEVsnPkG0WWFDQw37wmJ6sWcBxZAWiZMOCa4PyC2AMBdCgpr63BlAQQAl5MDNld78jkWN3mqt2AnmJm83UYm0LL/2I9W+a2A8ul5pWG3tYZlebkgy/gXk9fS/cHhNYRBwZxrcgJqgHVXjAbFGMnHtCG+6yHAnbDJqEy3bY6ynaZKCggAAAAR1Bm5VJqEFsmUwIb//+p4QAAAMA439+ANTLNNs5xAoq9C0oY+9pXbOpxCp95fHhSLFh728qgJA+iS7C43BAQP0xu/3cmsTPRLMyrfW5LlYoBE4CXlpIAULuXesUT2OJCW2qB9D0BM13ApcqioWxLkkUlLtIggtzXr8AI/v8TL9KmKChAhBrQ0BjdkAfsVettvmUlYyA66enmc8eIFVYPtn2ay1QqZTEyTva5fJFQQqk/DvyljoKsBc7Qsonkd2rfOlYTNB+Arv32BfbQvxnoKPTF9zIwEJSz52UT5opmLA9OrIGm9zqZW0eESjkVrBp1wq96Kj98N7ELhR2lZ47dYQQfNoO1zE8WCzcOXK2X4n5fQBKvHguC/TXFTTGyoEAAADmQZ+zRRUsK/8AiwZkQi6DAPWuREHw+hvUjTsoWE0C8INhI5eE9UMlJc4hsQM3/at8Vm5QoYAC2ZTkFDE3/RhF/7p+TS1cyFxtRaisaHhyRoOrHU9xnnDenolazP+3QARraRYHZDCpMW/Zr5UrPoGnH4lryAbqJrs5vng/1dIC+fGWrjnleTK8LmIziQ34cQdipxyYCyMU999rjewW2IMX6Rud0KDEHtjgIZMcpe9ofAMzANllsolbbYVoL9d2cl/YuIOJsujq+0y2b2OtZnx0kWdw9ULeBOR/fX/ebTBFYNRvMJExeIwAAACiAZ/SdEJ/AAEVamltA1TjhffunU8q9XM+uXC3uA0w+dB7wh2gqCM7s1NLswV2lggals94AJ3K4AiWv0eLH3ciw6L6FR/AgLct1MY6lECytktibuFODlKD3VRBNuMGaFtJ2aeuy3yixf+Qba4WbwfvWOBkZMaAC7lG5FJ7hOOii2j8a4ErAtMhYrW2jqN0IRg0hfdA8ntPfwCszZaVinrdxh1IAAAAnQGf1GpCfwABFdwcaT+uzsTEVsnPkG0TBxxtuo5ZioU6fF9ywUAfNxGk0kGKEZVrESFS+9Z/Z3SraZCc01o5wAdMiE+EB99nGnojfD0Px2+/51FiZiBjC5iQByhJEGzlK0ow0O8/LToUvMOgbWAj6vq5MObhY0rUeWZ9lvHcWSdI8cdGZksFE/LW2RANfEyoykvwUZTi6ZuA7KjillEAAAEhQZvZSahBbJlMCG///qeEAAADAFadxOK65+Qkspv/ix8AfozaiRG4G6P5n5qKo3hZFc2ZHiYZ7bo5ZSKp5GnrR+/D4OCYqWlueCH7B+WlyftUD8guF0lJtHUOhYH0XJz8XehOKPq9vUro8LINfK2guuuhjAxRL7q7I8O10lpD8dUj649xVh5P3yOXlgdITF2umAJfYqdB9yxVDxB+zegGr5dIhzr5IieJN9UASkXRpGIITO/y5hElXwrFN6K8cCMHJvvlF4gzxqVh4jEty5MugFzfkXmYjBE6Qdikgyrsh45TcNoeDAV5dv/zkRivI+mBUsiQpsJIFQX2uCrsiSzBMvIvmG14SFUUBfKm8aM1FVsLgwqLkUJAi64i5c0yQ9bxwAAAAMZBn/dFFSwr/wCLBmRCLoMA9a5EQfD6G9SNOyhYTQLwYyRoEjitMA8ulZOO/mJ0br5dLbAADSfuL4PGyR2ZtC+yZVadgfllVYKFpuWbA246RZ3EsQy4yoZmwrujnpHnp6IKOGzdG1A3mTFVa4oABPUefyO59Pq+eBFytkfUPVh09gcvUiLVuEZ4Dyw+O7k56OdRhe/uU/ZruJZkEfaDZRcVD662a1MZOpLUkOeF3NhXgZmnLHDhGF3WKSsAVZKhtF/SUHKjkfEAAAClAZ4WdEJ/AAEVamltA1TjhffunU8q9XMd9YfG+dLCCnlBS56p5oW8h9DOdXACWJSCvaUYWIlQpKA2ENDMLF9BH81EZCUdMZk/6+7NRSZAfO45T+bAj0ELPhpSBu86cZKTCfgPpHfnlvEKo1l7DojyaRoQrZ8WNh0QDLFpH2wjthyfa3IIsnZDk2pDTU9UikyUGAXTn/uiMB/bG1M+3bc1CkHHHGUrAAAAkAGeGGpCfwABFdwcaT+uzsTEVsnPkG0TA7KBPRYXVJW/qkUAH9LwlMwv+bzBCtNJTXvo5MSi59Z1KMeDg59lDINe1eSIuncuLjWeycXmwri4MHoZXTrnNiM2ElRr26L7Tmh9g4U29nDdJjy1KzyF+sZZpWkUKUiehQiqrb4O3cl12lDhbS3ebr6Tca4DlVqEDAAAAYlBmh1JqEFsmUwIb//+p4QAAAMAWHaWoAW9cg0caP2DlAWn6FGsTAqC+4FetA4C7dkXbMpDDJqw72V3xFuSeqHhj5LpBfUKqmOpCHUlGhdfHD3CwXLVkfMEiFA8LVIoFzQHdz2WjzkIiMzhxLvYCjc/svI9/7jJ5+AZKA2llLzkoHn9tgPAnD/pjlTCsq5xP+gdjm+xXKufOnVR+Snsx48KnXYYUv5+xZHwoP7gdTlZg+bTwfwnhi4kh67wPWnDelflAB4Z2dx+QwXS2saZ3kYy7SYElexz9ynFI9RQuc4Z1TL+Yx2gaD5i/Em+Ss/MZH7S0mhguh5GVwCVyp3WxgUhde7/AO/2kszFGMJku0fz6Jme0v9tU1qzlRZr0OOnl0x51jyu+SQBeaJW55ZtHloGckjGp29RyKmepBRZMXuY76jsKo2f2TealCzbDi39KVafbPfSZe22QsbejslsZZkOQPd145K7tRg6osnn1JE146gG52pSTf6OoMaCTMoOBPU2nOQ/I5m34eEAAADyQZ47RRUsK/8AiwZkQi6DAPWuREHw+hvUjTsoWE0C8GMkb5Z9pacHMQA26OqaAa6O59DR5DOlnDpaDa6+s5p9NIWKzIb1dJ8ZpcgHd9CU/eH/brnMAovztAEIIz71mz0pshU362nISGp2OFFnVwZsVxEr53khHETf30R1pK985bG00zvvJ35z8uikSs5phx//0Rh7r60OhqrlGqrSjVBoOeR+r1JkPcNoiRRyUX8k1jczkQounBr39X1ZG+g1eCejs9W39T6cnspTDDboEoF/qY7jmofOaGOqdn7Rs7Ng+iXjbspxBSqlkHypVvp1gRbPLyAAAACgAZ5adEJ/AAEVamltA1TjhffunU8q9XMd9Ya/1dS6goeIMrJHPbsn0zIQAt3yy97Hh3SYCovPYW8hwdEO5aKUc9YUzE1MQDXRqTd0XiLHdreX64m8cTjwz/L+DDtjrD5yuLZir7wTc7k3un7gJ1/LkgbWFpISjSGSFWzMMVjW62o03c19mzIXNPZpnhadf9iVvWGVqueqcSI5G4SkSLCLgQAAAKQBnlxqQn8AARXcHGk/rs7ExFbJz5BtEwOygbOSRUt6Phw4ro5DU2gwBpfMz2WTYAJq3nVqAAmCC0MOmu2DmYsyCoWDw/A2YOrbf5ZSP5sRj8Qf4ZBkZsVOe/MBYZXQBzXe1IMsYAaYhlMZuW7FSnEvG9PH0Huf+OCo6oYwxSozWeIcoC0gIcG0IfVYkoAbjpln4IUmimxolYPDDiw/e3FpkvlXcQAAAZZBmkFJqEFsmUwIb//+p4QAAAMAWP3gHvDoegE8KzA3yglceDyBJofqQO2uJhy1cWc8ZJRZcW3AAMhR1cS9W5WEgDiRcFCHu2AqPZ/sk5SlxSnlhB822n6pi+MjcKpe9mkjbi88sh/25uudhpwc6xPLvxrHqzauO/AEeQ6rU15Iif9DIzUyc6oKlRBiln89/tkd1m/al9o6xcniFmWHqAKC0aUIWy6I2/wULtGgG2AjyhbkqxoW3Q+44lGvjnUy+fs/pUcF9Eg6dbIRBlYhXe8HU/19lbiZ5X+VcgZXRJ6z6Wrc3tIX3tu4YFjmNRradbLJkoMQ5z02kNEh6/Tl9eKdi8g2JeO7PgdmfXSY7hsC206JNrCK8Dyb68txKZ1uXzwCXqRbS1XOJEc5NH8ARspUI7iKgIpzC5ziEcCtvU2iKOmHnGzQTt87EctCOTEYFPlgrVfGIlAQov36XC7tUye60LqgItVwC76LbiIImCjKnjGxSPF0j6yx+6ZyU0MoR5xw53O6FZQt3E1iJCUvhDA20Kky7QW6AAAA60Gef0UVLCv/AIsGZEIugwD1rkRB8Pob1I07KFhNAvBjJHCFYl+TKtzg6+Z0bFvAo9gAWhLx38ogINka85EdoL/IpTEM4Cj3SrOBMCYgn+kZQHMbngXVE2Z2VKnOzznyqyyVHGDgl4HdZJCF1+YVPdgNnd/z1ohqhksQvoIaiM6YAIhHw9+bC5ZyAAFbfrnR5erkXLc+rX4nvUcttINpVRDk+Je/q3Og56fC0rlRCpUOVkE/UVOiZCvscA8pUA2edzG65Jz92UBL0MDjrPIvvNzyAhfc0ziSjtQeQM/SDMnP+Uhku3h43DnSCpgAAAC/AZ6edEJ/AAEVamltA1TjhffunU8q9XMd9ZXDBLfAHKK36xMDyMoE76tKy9elN/TchndKQS1X4RAym3oMcb/sgLbmfj63bXd6CKVH2y0t3CjQtVJy7ORPL9vhlqB3z6cjBw2AsxKc6gxAq1ULEm3PoYSvFzIqrcJuO7iJfFknaL1lYrOVBgoFcAhPPeh26dgVHEdUpnyHZo0tU+O2eSr638shI1cXx+QxHpSmModcCxXM1JNLd5y7HcZRA6gxiVcAAAC+AZ6AakJ/AAEV3BxpP67OxMRWyc+QbRMDsoJ9+Y3VkhMxjTZ/90EACmwCZ0TZKlxyqioTMWXFM3+hTjB0vzUQQ/Vg8s/sLaKUmvQrn7rvJbQ6tVRj46zeVD9zZXm0/nlxLiiGmvZGtJIyQSRHbdMB3L4VQNnt8V8q35eoqzHDiomYeRH+2mHt7nG9If2biYE1rb3HxOB7DXpiomjw/Tn8c4iHG8wMtZijAm+g0g4wH2PqUj2JgKGgcQromOeQ8AAAAUpBmoVJqEFsmUwIb//+p4QAAAMAVrmXaYJ1Bc/MQCyrZ9CkKjVUoKAG3wp8L37BxzF7EGvC9c4QRknxrfBt/uPCKW6o8oe391ZqNWyKMdLRydGmHzKkt/wSHJuWTznqmgHnard+7RCzKAU1mxbg0Zb6RVCLTjU475ObRo+9hY4sRAWZjquqVZQJMqsF+2MgdFC3sdGkBL2gY/UZdmiDViZT0ygGAaHrgLPZ+fDGdaPCBIIO51aSCBH2N4mb/doxV79pKeNLB656Hen+D3G894WMbqtY0jQ/3Zx9ZH/d7PbptY/DmfyIJrLWQW7TvPZFbO/DxTJXL96XejFBnVlL2oz6gZj/NSbrahNVKp8rwBrYC281AiYsng1tJ+2iPHthtVu4hIoJnqTUnpCyWztTpNqOuZ0gZmxZRKLGH8qhh5bx3BK4zpCJEC3pW0EAAACcQZ6jRRUsK/8AiwZkQi6DAPWuREHw+hvUjTsoWE0C8GMkbAuY3ULN5oKpQ6roxn8Y/NEnADZmvNbwsY0c4iCYdS65Dnu4x2pvuAyz/hnmRn1bjpHJrTLdd7zsKrZhgJT8Ca3X5W3fE6FDfzhggC9kECZy85L3GXFCqzLjwPNTzvau4Iv2mz73ZZ99lMsDZCxlCsCenVmXDfUb3SsoAAAAngGewnRCfwABFWppbQNU44X37p1PKvVzHfWGTveSoZop6GEAIv2sFjF1Ni7+g89JGidVdQCNtjADay76FKQAFnQ8u3AJdhRnrmCPDS2P/8AszJDDeGV+QhdEolTkWB3lGlwktMKHXmQK4qoVqqom8nRGlxu6Xy+1BmqloWY00mQZoXYm0Pj6QdcK0jKuk8ASrYOhIAdh52V4xWhTrnh5AAAAnwGexGpCfwABFdwcaT+uzsTEVsnPkG0TA7KBNOPS2wzgBazkx4ga5rwEMmfsrZWUPEKOjBCddds/hzZlkxE8ZkQQL5ImYuaoytgYu4MKeoGLGhHKmZXqgWdgfKzc88UwjOzK9y36cxNKhsiY0B/HmBpafkmgtPPwBRpCSW8Ku6J39K9WZpLPsMwgSwbUoPdiLCl48LCB6IQMxQ6exI9UkQAAARNBmslJqEFsmUwIb//+p4QAAAMAH6xuR3Z0yubuX+67UygCBNNfRUeIAEHXAPD2M9OSKdv/qSuJhuKwEqWVzf+tJnk+9UeG747SPff+LlCZVZG1/SZvmN1YXgtmVRBRv3Uz/vffWaLrpmt0JHey8Iqg+ly9raA1kBR5c9BLukEBGUTb/a901iTxsyJgjxqoZ92aln9TYeyGe945tShkt/z/nwonaDsgRTeKcCY0SqYUhvo/AbDgttbybCFTTv9A2wDma6kLoZaqmpLGI52uhCcmpxXSy0jj/IcPftxtfXsV/vTR54YOmINnJc16neRWYBpqdJePsljE7OrQnYbI/FysYVomBwy0oAzjpGKE6xYDdN5wPQAAAJtBnudFFSwr/wCLBmRCLoMA9a5EQfD6G9SNOyhYTQLwYyRm9sPx9YflIXn8IqkDkc9PE73QrO07VBDYe+P9et9/lVpQAP13n9E/sn5a/dYu6q5qZyJzz+BUqAokJOWhSRS2zJ6WFnp499OZN8FG+RvbyHSbH6LEi2K+LqmAn0XgoQq2B7bgaS4bLo810cwpnBgQOvvNsgyuHDjsWQAAAIYBnwZ0Qn8AARVqaW0DVOOF9+6dTyr1cx31hiW/w8GTsyE+Gv2vjFQALqPdltialz0qJW14Lok5pVzgWxsMNXQAxz0WzKttVSczmTfMlYu5b19n75xI9P1lU+hpOtWQH1Zp+MrhcqBIYy49ldn5moFFXqAORnPbSUChWZOHLFeSNOyylFLy2gAAAGoBnwhqQn8AARXcHGk/rs7ExFbJz5BtEwOygTRD+nfuUxnh749UN1BDyNxbzagAIDgJqZZcQPxWEvlWDFc47eV8gTxxm5dGL6zEdKVLr+NS+dGlN7fQVvbnz//QmypjZysU8VjMm3t/oK+AAAABHkGbDUmoQWyZTAhv//6nhAAAAwAgpdUQAOzEJUsTxmPPhPiNHhMv1M3Y3lmXCgwgFADpL8fJiFMgOF+P1bkRtcAvFtaJ+Vgxaqfq6WbmiGddTCbdxfxza1Xve2ZhVJh7/118hPfmWxjo3yILHxHOfP84+LjIiARujVHrAkmdZ2LcVSNepSDgtL6DuRJd6kt5n/MwQNzELharUocHubyUss1TnMMxq3sTk7pWdRLXcXLk3hl9ch4JuYSXZySOBDBrDlVhQWIHL/XszoUsBpzIxxxgxda5PS7OPokzALYJQ9MnJkvEX0g8AnecupXu9n9PegbBajIsgm1a3gTmV21LlrNXosg1AdbyXBhT3MULOF+T0tB40NDQi9l0eILw+YEAAACYQZ8rRRUsK/8AiwZkQi6DAPWuREHw+hvUjTsoWE0C8GMkZvbD8jymZK1I53gAAnE93uX0QBFqROSbkHdsuwYizPplgt/p3osPKN4+T+0XQ2D9S8a7BkDFQ3ncwHNpgQ4BmwqoWrOlaPEpqxLjqXnZ2+E8yfMteMcYZlXle+YmmOm77DoHp1UB/GLBje2dvKwHWZnpOkBLiYAAAABjAZ9KdEJ/AAEVamltA1TjhffunU8q9XMd9XbpzX3VGV2xu9URF+O7ERWMqTLSD/HsvylvEALW7eZepmv5nBKAKjHt1EXaC/Rb4iMbQS7ucn2h7PnLuk0mqgAkDIxBW2K7PdqQAAAAZgGfTGpCfwABFdwcaT+uzsTEVsnPkG0TA7J/61Xqo+01iuhGeRJ+OABYCLrzZFGdTAiYHwJrkMv/U4I/GO7sOSip6l8+PI7+5SD11n5ysUI7H3tmfeIPLqV8GJMepumEedj15DpsqQAAAR1Bm1FJqEFsmUwIb//+p4QAAAMAIN03sEtuBNJGACIxto5xu3sSAMnpuZt5b28sVeI8zltz6CODfrGd/BIETvv5g2UoXf3+arHL2LFvwMU+WC5bn+fF7hXrMlZePUfeYiQVFRKvCb6LnFEFwCGdJkRGqNUQrGcXwolKW6Mzd92AocixccKhQfJ2/BT6/Yo53UXVH1FlHnVxZm4EWy/oZGTjKf6wTNALJOOKJImpwFwrXR1Sk1nV+/qC8DVf0Bo+a3cFs5mdbzeLgN61Sz/xBiRTMnwZ6f/GnvCfChZOgm8V2XUyrsCZc/S8D5Y26CqFTjM1hJKor+BRncl6rEVI3xebXFSNZACRxpAqzYWcH4xXtwfrChAvrVnW8tHclnEAAACeQZ9vRRUsK/8AiwZkQi6DAPWuREHw+hvUjTsoWE0C8GMkVUaPicmYAjtRVKDBTh+zy82QaK72zVNBybuhfJTvUlzU7RSdr3FyPpYcn2EjNTNaae9XndShxpK+Soi+FNgee9EMTiX9JdjO97xnmkOwWGBfKT4S0w1aa3VQRWKfuLWlFPzj/d39oqaXUVeIDvFgcuplTC/X/EBnfdaPRW0AAACWAZ+OdEJ/AAEVamltA1TjhffunU8q9XMd9XbpzZepHgCJjpsP2O6dK05Vtx69RkcmmhqmJD2waL0A5UW5/wgGyac5DZMIiqHP3JM10Le7se1XB2Cj/bHdIznhZS/rBaeX48+dsFWBbeG4bRtAKhgU9jMhj1UwJ8Enr8kbizZYJfUfB44QfcCfv3fIodGfjlczw/4GPOmfAAAAhwGfkGpCfwABFdwcaT+uzsTEVsnPkG0TA7J/61Lde329Z9mghx/f/eQAVuEdBBpwglXLLjM5mgqWFLwM7FJDHOot+okLSwpGduxDGe1wT1y2jEOOYEEaB6ixzJrqPzPRiNyzsPQ+eY/A9BQyLSiTkqPRywATT0zz+XAtOyiqDU1r393CFIcVgAAAAQFBm5VJqEFsmUwIb//+p4QAAAMAIN03sEwGdFLXksAHF1PbWdDXQyOj2ACzHksBVDdkp8EPaT0eRzx+Z1TB1ph4+FLfP95wm8V05sXQfDN/c1QkRKKxTKzmAFi4G4aF5/EszowuEWOWdGyB7badCNLeNiZPhPZOS4RaVuM/pQMqjOel8ddnr85nAlVoGlLaoaowMaXQVr85D1Brp6ZUJN9e0M/FsrN3iBcOxWukn5RpxgAE/mby/g3K+IreAjWjDOZGkLm9pSdNykqBS3sELGKuKzvFduSPvSQNDaas412RvJ0yEX8B3qFUmkIJcoJgo4qPsxozFnmTYdUVVx2w42Db0QAAAI9Bn7NFFSwr/wCLBmRCLoMA9a5EQfD6G9SNOyhYTQLwYyRVRlMf+s8Q2dp1FSmjWySYYF2/mJszuvZKhlHYaAB2h7CxXbztOr+T9aCmg73XzA26Xdjhsc4jhZDEtOZ7GRpzGbrFNMrk7dztmgusG4Iw6CPOXm7Yegpc1oQxgK8gk4+4yqM7uf8COotTFEC15AAAAIcBn9J0Qn8AARVqaW0DVOOF9+6dTyr1cx31dukj2s1cVOI98AJaojTbhvoVMQipIBojMPAZag+RTc9nlhQ8qoYSVK2kPr0QqKizVH1h5O7InHy00gZT9KMmWq/QaWqMLhk/Fr64QywcggRlLA97oaJL9hImHhqH/NmM52rmEV+3IQtStTRnUkAAAAB/AZ/UakJ/AAEV3BxpP67OxMRWyc+QbRMDsn/rSGoOBWqZV7g7+C0hoATVl0Azl7GEybGCFRGSP3uMXO1B12l27C4fLbrlG6wwaGitnIbfEx9TOvJ7Xw21lyIeVOJVJ44VAI5L5WI2CIHDpzHGd16tmAwgdQ1u412c6cvrcaPSQQAAAOVBm9lJqEFsmUwIb//+p4QAAAMAH7DDJL4XwgBUBgeHb6Viem6Q/0X+ChBW7ECEfrAh/6Ybj4mtlLM5d4BheLobc4v/zf9GuTsXO8nxbfXCZ3LIVl68jQrFbBe4ObxxxhLpDwqOnJiMYbg5zN3fRegHvyCN+1RWacr9K3dzPQy+3Zj8CPWzNnMn+83vYqpauTwQ9kyScLa5mdxYHUrBfQUnkeftIi/R2pyrAn3SEvyZ9rT4Sm0xoFknZsFldhAn2t/29y1wN3yQWODhlf2FOUKGDxVhGLOjE9W6Kq+3+aJTLcXaY2VAAAAAhEGf90UVLCv/AIsGZEIugwD1rkRB8Pob1I07KFhNAvBjJFVF/0uL78WVDqj+pZ1APsIy3NyV28AnOXDx38fTqJrgbY98uOCsk5OBMFHHZH+G1DAbzrlHsrbgCjM6XkKVDaaY7jEDMJ7bXYeYdbBBeTLh2vsY4UIZO9wsnBzfJaNShe9d9wAAAFIBnhZ0Qn8AARVqaW0DVOOF9+6dTyr1cx31dukj2czEe999FQAIfOJBkuwHy2P5UUy39nPyQdatTNNQFSWnwzKfaYaw7J8kYnbW+E5BswODQpmBAAAAdwGeGGpCfwABFdwcaT+uzsTEVsnPkG0TA7J/60hqDh90tI8AcT54qR8onUb1OjBR2I/6s8ToCBHHjonmrBgSyrTJTdq4/qqyNGA4hzSNZ+MN5Z3Ysl+T45+Bd5yYQf1wBIxTMKX04XF+sR8LOArXJngh4lrhRdmAAAAA3EGaHUmoQWyZTAhv//6nhAAAAwAfs5yEwAEKlM+XWuSCCyC3swYs4is3rR+ktSGGzdeWrsBGOcQ9bkpKDfBmKoJjB/iFTWmBN2znWqu1ygKuAA1NWxW8qi1tq4NyJyuwezkMXZjefY9NggsJZDKzMwxJBwrJZ44TiIFAHWy7gzvndJeLWZnyMD7AuC6QqyZABovTFeam32TcYHynoKD6ScsDamnvvWWWhcFGrywVXfkZJeJnP3XEESISRudHOE9XhBQlBtEIrhaJwhDo2jASOxq7d3Pp1AzO2ux3K2EAAACdQZ47RRUsK/8AiwZkQi6DAPWuREHw+hvUjTsoWE0C8GMkVUX/SzvfS23fnv8YBtxPzWIyuQ/5d7SsANmFFxERXuZL6elUyfOchT7Q+omR+x5Df1s2qTjW7NR26DOls5gFl3zBPBGfx9fU5sRRZCtBJIf8IAQ92V5nMa6Q6dQBP4NqgpcVzEM/7g+RCL/Nc2bw12fRKFHtD4AaRNNdjQAAAGABnlp0Qn8AARVqaW0DVOOF9+6dTyr1cx31dukj2ZkE1AAtVvm7EN3KgVjZJVrecl8IzdNUI+cuL6l5OFzyKRWbSUgvXogTRKrQjqEfmZQ8gEUBUnV+Ax1wtOLQw2QqzjkAAACAAZ5cakJ/AAEV3BxpP67OxMRWyc+QbRMDsn/rSGqz14QdMCHi7QexteKg+rgAJ00+biSmuDPiGusWUjsXlwk3xxnFoPRoX16MU8QU/8/sk83RidapC+cKikc1r/9lBPT3/r2j+QX4DFIbzJxKyaGB55c2vGvK5nsjfmpJWzM8fMEAAADjQZpBSahBbJlMCG///qeEAAADAB/RTFebUAXSgiyUJPY9qQt9+q1VbAEKudyHUUGpMuCQtcgXAuEQqzk/CeonDa9Y0y7ZLkKeO9taPxtSypJ3ewdrzD6b0zmxrNmwI8yxg4TkHcm3gOLBP+jV7bUB74PuKhfDYGIJvWOsAuX4R16AJGX3QXHJLdFQXVkU65OUkoYiFhcmzdwPPo7fKxv/OGeKK5PATZxj8KBoMN20q1s+rKL/VUj/JNld6l4zLfdHHweFxzxzRIQ0GpKdrLa6fJ1T9ufza8mi6dWZs/Ry/avvx3QAAACHQZ5/RRUsK/8AiwZkQi6DAPWuREHw+hvUjTsoWE0C8GMkVUX/TBLW3uiAIY1/OK6vMxDndld1vxw58xpBsTZwJIlzEGn6G+RkatFQLBWg1Elz8GcXyJnQHblK567fkUohZTwE6njHhJbGYj1kAGpZt+YI2Cte/9ia8boQ9SiPavLVZQSGdynTAAAAWgGennRCfwABFWppbQNU44X37p1PKvVzHfV26SPZrTs9mjhThJSHRiV6WQGJG9vABM4w2F6tunO+qJy0fCpWfQUtwql/oCf/zYECEQbKtSq5NmqmiukLQ41eQQAAAGUBnoBqQn8AARXcHGk/rs7ExFbJz5BtEwOyf+tIag4eUiACL+hjpqASsDNEooz1xQrkl79XdvDMaNHrRDUEy6XweIHLHbff9fmNG7CVhjyopUvwLOrvo7EOu5twk25neRcl6ZzKgAAAANZBmoVJqEFsmUwIb//+p4QAAAMAH9/2EsaIcP0kA2s+grRqT8zQM+Mbxxsyh5vB1T7eTc5O7NdARzKew+PrpmoZ0aTB+UcOMVyCK0TLTGV7iJVvbwRBCQps168R1CFLTxW9rx1hYNqPd6a9GfFltQNed+bsRtp15HtH19pT93cCvkfskHB0aqMeS2Tt1MPIx9V41dKHL74CQTS0/2u1P89326/hyGGjvRHfK55Rm6DwH29qWFlmz1lkbg+eDV3431AaY7deXY6uwHpbq1UI3ddtXo9ABLQhAAAAm0Geo0UVLCv/AIsGZEIugwD1rkRB8Pob1I07KFhNAvBjJFVF/0wVi13JuxtxhrNDVJKSRg9gArmKArj0a6Ecmcd1Uiethq4gMLjuCQ2IbJ8wG5RAOWlZ5jtKoeqnTS7UeNrP1h9J5Y4KMbaeu09X7KPlLxR2XADbVuG+Ztabq9DJ4O4N6y+zBtX1GBCAp2GRt7P/z6WockkOZlTcAAAARwGewnRCfwABFWppbQNU44X37p1PKvVzHfV26SPQqmhiDJYwLTxNhXd/B5cAE6zTLfHL72GuNRD3E7MWzid+nldkixKL4UmFAAAAcQGexGpCfwABFdwcaT+uzsTEVsnPkG0TA7J/60hqpJGMAAl2BwMqkd2W7aXopi3HfIzlUTtQevkS9+s+LMMaZh7Ylr1OXcqZw/wnPCbpm+E34OrsoV6cG2hv7rZFYUTL7zlxtX8tq6WzzhBrL/ObORNTAAAAzkGayUmoQWyZTAhv//6nhAAAAwAdojjoAbgaTP8Lm5ybwtwugiigKlISQ2ZiTryszWtj6wTWNH9/bCQBHPJKFZxIjvrbm7OKA0b/3UmOOviT5VbZqfaKRcb/ES6XQ6h/KmJk/yuCfz1ZKESFNeoRtd1EjLJrCLLUxZ1tHn7fpQt8Roh7WxseCDWayIwEQTJfOHAysEyjjsddvXjZ0WQdNfhxUITUyhw87KOkAV+79Pn/TkMrVIXva2TPDrqm+eDI3xoivcQCDuybD/yXo57BAAAAiUGe50UVLCv/AIsGZEIugwD1rkRB8Pob1I07KFhNAvBjJFVF/0u25BRkB1AJrZKmJEybinwyzDt4AJ1m+Il6rWqsOPf7z7pPC5GAnWLZKQmVG3735NH9zWeN5yMxRCKAs2Sb5t+5bhH+al7CvZneD3Pg3TbyBDmMZ6UbVVeCZnRyjzFMsUcI8lxNAAAAdQGfBnRCfwABFWppbQNU44X37p1PKvVzHfV26SPQrovWl+woJgy9XPw/GrfNYATpDzavjPrQQKH2so7iTImv/4IVOzFWxsREjDZbM7ZKhj5DTNOCowA3rvu34eL2s+IGAn8mqMExmEnM6X2UInO10/qqXwEM+AAAAGUBnwhqQn8AARXcHGk/rs7ExFbJz5BtEwOyf+tIag4A25G94r1szl09SsAD+eNwq5xvpllby6Zn/j2XcJXj3G9MXPDIzt0udAN9XrPwrjKlMSR69SKslR8T3bRC4ZAogUskRxlNwAAAAMlBmw1JqEFsmUwIb//+p4QAAAMADI2LZRAEALD8keIWMpQmpyf2jml9qyYOXPyLTdhRVFRQOKx+3Ej12foYEkNs4Ggcar2PdjptmEWStqkXxH/GPXG8/pFnAizuy82DpG/A0h7Jq+GmFEk8fx6hrANBdCVZqUCPCX8WGA/wv7r66VXI+4GoDrjQSzsu1uyEOLJuu84UAg4bT6DW8zHIs7waIy9/OY9gRyQJt3DJfPf6GpyB12jn9hsiHTGEyD7hZiqpeIqX/EaY2VEAAAB6QZ8rRRUsK/8AiwZkQi6DAPWuREHw+hvUjTsoWE0C8GMkVUX/S7cKLrBfMh97jiDAkwJK71gBDfb21X3knxpxzHI4P7oYMgPaTOOIdZMMKrPwY3GaCIa1hbrxcy+r2Ez9k/1i5e1eIZmAXLIZYPHP78TXhm4BjhCe1ZQAAABHAZ9KdEJ/AAEVamltA1TjhffunU8q9XMd9XbpI9Cw9QGAFfQl6HoYaORifKEiKVGsEzO4mzGWoMs+mOzZ1fyrKyVmwmiIWUAAAABQAZ9MakJ/AAEV3BxpP67OxMRWyc+QbRMDsn/rSGoONhMXTnZbnA812+D3gs3RetOEM1Oxx4z9XwAL64a3bdHKrBoT3QmKdxNYkXxj+5U4KSEAAAD/QZtRSahBbJlMCG///qeEAAADAAyZJU8UAFh9DH8b0G/143RZigINzLfpclR18nWyqoN0E2c4Q0V9Qh9wKT68GshMChivYCkb/GPc5+QCslDb5ciSYHP/oQK3115L/KLlfCqFmVwDlWdukBt2mxyKUx22kjs8SH6jB/LXH7/FfDXX4qKzsDA6XQrP6eeaUL9ou70Ufx45nG/IrjNY1+YuIKTPUS/bziCQ/XCKdK1470R7XKVghPt9eyoAxKI3DtaYN7IURKQtrfXJxFJTfEmdrfnCSavb9474yZpP0XXwpKMxdJVrLcvzz2iSTOMSz4+uqJFyq3lYlug/kRARTGypAAAAe0Gfb0UVLCv/AIsGZEIugwD1rkRB8Pob1I07KFhNAvBjJFVF/0wNJESFuFuPGpJ4ZnMm4850TACVAbJiWAvLDsYDPvmMAw99cdw8xSPEdP5A/7/UoyGpVs3WnMenK1oJpJzjygdII2QSD7VpRgKhoMt7QR7WEh2KR4qbgQAAAEoBn450Qn8AARVqaW0DVOOF9+6dTyr1cx31dukj0K9SzrlwvrkVWrW969qACL0AviB3w0sjaY0F7PyU3bdkHF15+kg9OY3mT16tgAAAAGcBn5BqQn8AARXcHGk/rs7ExFbJz5BtEwOyf+tIarAHXTgzJmmWsufV0Endg+9AAnPMjAHXq+x0ZWeWcZzyWELtitWdafcKF0wLXgCnHUYhqybRDRDmPkgfLo64+yBGArgFYRlH70g4AAAA/kGblUmoQWyZTAhv//6nhAAAAwAf35twHfG5RAGAKuh+cqEghQXGoU0QhbVW1+aVrzscbel/zXwdlCCX/Ifi8BioRjrqWpIsEwrtoYBZ+x4e6jRCu5Pq1Cv/iC78Ez5iMOrkg+sN1VryFw35Pu75ScSdLH/OB49304LND4OCFla5CsVRs0Vcbf9H1Og6zuCZz17xH9mmrFs0d9Of300liUfDSE4H7qgZWq9xGPhZwpsS86NLeuuPR9XFGAngUon2kwvopy+oqfSV9hCvcYeKLSrTkBUeYChIn8aRAJN6FPKsqtn4kP5Y+QwJl1utO/NT70oDrfm4k+wX8D3NmcUxAAAAiUGfs0UVLCv/AIsGZEIugwD1rkRB8Pob1I07KFhNAvBjJFVF/0wTYw8tWXbk2VPy/otrEoIzfUwXqxrJncxGdWm/S4y1KBQAGgVsetcLRk86delGBDOzTIRZD/DmvKd8re6JyTi9qNhS2T+X4twOjZs+xFd7FohaLkn8EuH+QMQdCwS5S7WiqMtoAAAAXAGf0nRCfwABFWppbQNU44X37p1PKvVzHfV26SPZeIwvJV9dcYJs/XUtreAC1QSYKxbU/h5mlKbzY2yrwos0ihogbA+Zzah3gbtU8849OdoESF9pr0XUHfKvWGzAAAAAagGf1GpCfwABFdwcaT+uzsTEVsnPkG0TA7J/60hqvltSArX+tKOSwOoACW1KNSwoqgW3bXVpc/9GybqU7AU84Iu4jUfUppaPbN8ifT+wDPqvwg3ugQDKsyNHvp49u1ppQmKUIzEYZa/mlXEAAADjQZvZSahBbJlMCG///qeEAAADAAyNi2SaUz7Zw/UwAcWqcSKN495CLjwAHMvWz7wb8tu2lL5/CR3kp3eCwqB98BV5uIHkXBlQFq64Lcw5KBoZ3Q7pMm5Qf7/V8YN66j1uy/7HBY6suhO+7XR+t+R6h6qbsn0lgHFNh/QrSqo9DJh6Wig3Y5y7yiiQvguOfbSPz51Ymu9UNn8FBA+mAjrNAG/FXfaDt+vLvT4VmhnMtYMAZkJ9HwjgsbCUoVsmKCZtjc/cZ3ncJNo5CKj9itsY+5m3jjxF8XhJEwtLsA5m1r50DXgAAACRQZ/3RRUsK/8AiwZkQi6DAPWuREHw+hvUjTsoWE0C8GMkVUX/S7bnML5bH4wpntb6kwALXHZN41XLgWmKGDpKtk70ZYLHS0R6OkSOhXaCCmDP597Ly+2Fc0xn5R2MX1D6EuZHx6ao2XJ3eqQVguilMw8OCBVJVzQbPkjEeth3D98Qi4nQG3Ii+byKnQtonPw1IQAAAGsBnhZ0Qn8AARVqaW0DVOOF9+6dTyr1cx31dukj2l5Ra+kYyea5K87xgA/QZKnKm63BYVz5h/TsCCCV3fEVahIll3HAXDfmMtSgDkppbRnfk7xnE13PPj+saTz95smHmmL/FZoLxSaSckhxwQAAAF4BnhhqQn8AARXcHGk/rs7ExFbJz5BtEwOyf+tIar5YZFLxCDw0nXAB/O4YymTTJn0I5a7jS+tWIGMvBdcAbpFXMEjIV0fvp+DGw8SQDUc0m/YAYcF7OWHqFvSg8RhQAAABGkGaHUmoQWyZTAhv//6nhAAAAwAMi8uSU9rJJIAL1M/cREtm6KHRwYdspns5PxlgOxGlRK2oWsQrrVr1f4slmXfM4VmXXO9lkf9K1soU2n4KBzfTUoxD/34ltlNTgqi0oOn/eZ8Ai7cHB0mRuZrPRy0I/jQRBmzvLpcA+yJlOAxpjepREa2rUmKfPkT12gj3DwuHM5pghv7jvDNS1aKUSwD2qMdgMrlNBrol8H1T/BwmR0VjQURiqfWlmKFLQCasuoC9BVJMOlLmmssygbTn+yQ2KR8iMLG74lH7pVmWaPeIqBOihqv+ILXA0X34VLBCoGTTAIalF7ZI/lA+CRm/yBhsjF4iL/vSdPmfNl3GlcBbmNWydcbVd+udoQAAAIdBnjtFFSwr/wCLBmRCLoMA9a5EQfD6G9SNOyhYTQLwYyRVRf9LtwscBfB1cnozr7kuTLwlrgIiemewYALhZYaxRsVNkO2Ysm/zjbLMC6b9KlcP0SGP/zM2AHP8XDBr6sPSLNUfcE0duMCXULEyVBwI3tiqnNkKkXbNSwnt2og9I9VkMQrJi6YAAABCAZ5adEJ/AAEVamltA1TjhffunU8q9XMd9XbpI9peJqjKk3Y24/SuADz6O44SR62PI3uYV8kThJ7Xs/RWLbwVcoR9AAAAWgGeXGpCfwABFdwcaT+uzsTEVsnPkG0TA7J/60hqvlaPgMDsJ8AIPUIplrDp/PvCpoq+FIr6yE7pQizqn4+i+zj6CX6py/2UHkiCgX2xCrMc+WAiw8z75wRDwQAAAQNBmkFJqEFsmUwIb//+p4QAAAMADI2LZMBgAHHIgon0ZHLF5O6Bn5DovsM3eKY4TR9nxJLcTq6vmtPk61vtA+2X+RhcHTgGYpo18aCBgsVaqYHP/NJI251sakdGXX8H2JNrrklVoYERvifPhtbI4Ed10YrTubwjl7zjyWY7GIJBKhcy/l28mXmXVpd/zm8fvg9kd3cX3KiKR4E/LibYzMjWHfwozelbiKjqUnpZ1NVbYvUDVPo5sbvPUpwobaVRFYTVuf1Hrg4hSGuef4snwEoF7P+7Qrrl0lIIx0+njrCv++udmiskiLoKiCGerfD9fsFzEWnueRt/OD2jHoV3t2ablVwsAAAAjkGef0UVLCv/AIsGZEIugwD1rkRB8Pob1I07KFhNAvBjJFVF/0u3C12JYeJmzqLl8JXFB9wy6ACKvbmpNFPLbU3uLb30jE3ugEv0MUAWYPPasFpWt3UEqKqKW/quPiDWFVtRZWNT7R2bi9h5Wa81TS2TQOeejqnG45xPRAT84i48GjiQEMQubImEwc3sdMAAAACLAZ6edEJ/AAEVamltA1TjhffunU8q9XMd9XbpI9rAVXoAzMkWHiwMW3hQPm6aQS5swBO51cUPZ9mtRg7cjk4Tx463M2YOSduItIAb8mqRTS+yGPHwe0ZgpwsSi0Or0ZFpZtraBAxI+G2SLVSRgqLDVUFSh4pM3/XH9sxPo7WDct5YAKS8A+Ia7NMS2wAAAGcBnoBqQn8AARXcHGk/rs7ExFbJz5BtEwOyf+tIar5YShvqHFB9wyMACuZHFlz4ofc9+eJiMboXkXjjXtP9XKqAIZQoPpsqu6zV/xsD3Fpg3c1B9XYx9JoSfVsguYbhrMfDyw4YyE3AAAABN0GahUmoQWyZTAhv//6nhAAAAwAg3IPhJcYAB0rkExsTpmsdlWSIHz+tZqU5VRBQX8byXr+qMBgR1aSDMIuEOMv10NO92i096SFuYOEkMt7r8JmbMrXvwYhK0ELrazHtVWY1VnsqGcNjhoL7OyVNDGK86STz8vozyALk2yZStfr/bRoJvldLLAt+qX76+mAN2ViynhjweRUlPE4REi4a4G9/z/QkV6hRJeu/hAe4Er3mjm1zO4xPC8rhQ72O9fqNZFfn1+pOxd4E8QxsLUGGyhgb0h4/upcq3HS0q7m9ViKcHtard7i4OOW6cDteuJuYY1+lLJ6Ib0/7eWoCcIZMZtxG/DqBk9JbK+p0X9h3TF8c4w/mce9j4b/z+Xu8jk00mQTRjBFbapa7R1F1dBoutcW/5zNYZVyhAAAAoEGeo0UVLCv/AIsGZEIugwD1rkRB8Pob1I07KFhNAvBjJFVF/0u66kVH9/PQA0+FnqWTdNk65LCBSx9tZAneP1wslB7G2IAb91Kky8dWsSD5MQD4xMeVCq4Jj0nCmMYjX3l+oYSiZ1Dprik9uFLC3ZTCzTSuErV2KYE6Cj4qEecv8SaCvKtjix3uFlOA/Ai+m38hD/fIxzrOUniKALy6WUAAAABOAZ7CdEJ/AAEVamltA1TjhffunU8q9XMd9XbpI9D1N7cVzx9Bn68AEmAW+0cncoUDIWkmsJ0p6FIi72sxofyqf5c2Bf4gz9UZ3QAnkEuJAAAAhgGexGpCfwABFdwcaT+uzsTEVsnPkG0TA7J/60hrEptLZKvACU05f/Q8bIhrxQiSmblU2egX5afMZRWpS/ApkuLlEfAGyZT1MuhHcHwJMvS155m1tNReQ0y8hht+UsNjYg7I9JGsEJctC5eB4mphk8wjJHfR6zB9mkLHlT5yNqhywu6M6HS9AAABJ0GayUmoQWyZTAhv//6nhAAAAwAg3Te1dDV/UAfZ8a7Fh+e4L+LS8aZfwsq2EK0du2i3YP7vFfpHpfFG9BmCJ82A0OoLO/ZfP+8RzATdUBeG8AEHEfwT1iOyYcrWyZxPA8Fmk8WBBSlg+7uhDw041hkeNafDxxlEhe3WpZ5WMOx8NSt5kTcDL/BBpYuU6xspth35XqWlIgUoQgT8YANR9cENyo/8i8Eembf+zoaG7zn3xzBTg9nXV8IaSh+Vr4HE9eDPfqUBIq871a+uKyLMpP1QoE5zNJKTLZic27eUG15EYqhyEcRIEba3Ce2wwo876mEz3MV4H6zxSHdmTd/SnciI1Gpr4Xx6tlURrrqFX40srZzrXEkXiP8OhcutMT8niMzqSFaoTeEAAACuQZ7nRRUsK/8AiwZkQi6DAPWuREHw+hvUjTsoWE0C8GMkVUX/Tf4e8WAAcETkEIZvkqYcEJ+0Lcr0ZZjp1/Rfk+4A6l7rqvrPJbrg9OPQetmYQF7z/+oNzzq3o96NdZIWRPsQ9q1YEB+1hNEKDBE0b5KFtDv2KVRT2lqSCInTtPM4j1D6T4g8AFPshlPyIOvFLI/8ka085K+Q/4TNoBtj8l1sjBIra6PCMDA28koJAAAAZQGfBnRCfwABFWppbQNU44X37p1PKvVzHfV26SPaZ8kSCNwACwT29zCug72IJ3t0f1U9I7JdCKgkb4w51UypAxxOL3GxnPSPbygm8llij7qKnfwu7IACx2zY8YHbzT2W0vpIwnzAAAAAiQGfCGpCfwABFdwcaT+uzsTEVsnPkG0TA7J/60hqH4Ty0WYAOkclzOjktsikeBe1JCHk9ikfbf38s6a0X35xIJU/xpcPtr1SpW+OTX/F+eVW4DiYX7vQz0cmYH5NCaud9SNfOnTlx4D9TD9OQwhVBvx7OwWlNhPqoA0yqR1pbMX7Vc8qH7POYdnwAAABakGbDUmoQWyZTAhv//6nhAAAAwAfAgEgBQEBnLoMC70saGhOoaBPMo8Q19lh6k1Q/KIDr1KKtyFo1LzUunWGWOPPbpIoKurhwtmDmS5ZP6yMHuDyMWy4qmcpw1bf6FQBzZZJCuG+nAD30RXBboz+KuU1Ig9m2cvLnRjalhMsrrlu3Mr7dhZURSu53XLhaq6beEXvVqxsxd1kTqnpZeyN7gVw4Nsp2W6o9KXvoAqBZcuuv+CmIsHSyIJjLcxfxp3FtmYEEJWIuhTyl5o5M/Sqc0ZwD7ZB0hWGJi2zXDPo/y6uBLU3HGb1hkT8zT1ZaF3q6u/d4/kL8NEn0OcLB5rmHrJ9/8QD/mHKA3eHk8U2LNyDsfuzmXL2K8Vo1aRHbpxOe4hrFBfByFb5fjuwmG/9pPIotq2vWboQcKuAsUV3by5ToHip7vWrTXhhRAB+La77Ttb3jB2jUANZI8KQ6Gsos1gmdjCva1shxOmBAAAAp0GfK0UVLCv/AIsGZEIugwD1rkRB8Pob1I07KFhNAvBjJFVF/0o4JzXUIATV4nO1YwLDsxoSdtY74hHtWWUuY+Cq1YDvWMEgsT+DATpBSOgrl3yA4Ii5k3GqhEczPOmfRuACWnO6XgB1ZjZpQCcCuUbID+nvp9IAjYSjZeUU7UcgIrg0U9eNuSpnakZvJEuW1TyUqYnYZ0Jw6+L/d/fsJ1xbXmMKg1UEAAAAYgGfSnRCfwABFWppbQNU44X37p1PKvVzHfV26SPY4BHAAfuc6kwQftH02gIvzdnoP6pZqZbjN2GrBJp/vp7bkhZxgHDOnDmS/XZ9jMh8WaGhOg7cgWs9jlpQC4ehCUhYDtSQAAAAjwGfTGpCfwABFdwcaT+uzsTEVsnPkG0TA7J/60hqoxFSSIAEQZyFr+Sh11n9sqcYkVb7ftiieRCxKwtQZeTvP6xYBtd91zXncsT4en5VfKk05WWA+2Z6iU3r/J4quHubFiPctv4xvYv7QhTXmczOutfWPUn2YUG1XEN8b9Lq5UWd9kZg0THtXo6eq9B0tRJxAAABEkGbUUmoQWyZTAhv//6nhAAAAwAfBPHan531r0qoL0AeJAJOFhnL7VyLian2NQi0Zew8NjX/zS20VO4yOTn87UyYWrCG2ZWNDbEcR5O2UZHyVth1HVAFCsJ8XsvOp2chT1SsUsazuT/DsFdIBEw84M3e2cnv9hNUQ+e+Uv/CL3x2y4g23u6+0F5XGRPLu7113KHlZy5V4/eSqgKYk2hhBzaL9zpIAJzNaXQovad94ejBIEfCtmFJ4KDBwd/pQSgdDJXyi7S+GjWttbVRPqAEgou4kom3CgcJ3ScJriI4BiN/viB/1RzwvYxlTjjxZqtCIiJz9tSuWy9rtLVVKodN2wi/iEzVIE1j7po91gB8Y2BhuXMAAAB5QZ9vRRUsK/8AiwZkQi6DAPWuREHw+hvUjTsoWE0C8GMkVUX/SgCpVpkIOF6zV9wBEfX1eOW57q3dTXUb9OO4imcWvl4LqJpHEVt99M7D0SpjHTffd7+IXPLGiUEMdlaRUswbkVGrFPnIuSUIeI0uZs8kapwgsACi4QAAAIYBn450Qn8AARVqaW0DVOOF9+6dTyr1cx31dukj2ONKYAB/Mm68xPpfD12qNG+E+UZslWSB4hoq6m+kHiqgDmLxLQ/ptIS2uPXlpG1AeNyUIxLDNc0JvWv2sZdfhE1U5qujqiAUG7zzAXmwNLyzMdCzEd2t4eNu1T17UxMcx+D0/djYTZKKCAAAAF8Bn5BqQn8AARXcHGk/rs7ExFbJz5BtEwOyf+tIag2aGV8cALZdW6VmrNZlx8R1U+KwCoi9hEzrZVEDrilLjnyXVr/jha4fEB2TZ3m5cHaifjpjapgWSiFZV3lsCYWR6QAAAPBBm5VJqEFsmUwIb//+p4QAAAMAJbTBkgAcz66pBuawC7IzRfSmnXViNQTITOcnqrkXM1ZVfTVWLohDQUU84rATo03zmgSAcB2cs9y7bUeMXnOXEAEWIdm+nXefJsKZkMu1Xprqvn+GKZlC1nNf272k45G1gHvmyYGv+pvwmME0jd6BKiuKwvlFpQ3YRXwVvoSkuzUcQF5qJ+A+azcTo1cbVXDQ472ZV7Fjx2fKUxcHB8DZkQluGwvbZjOe2PGCPOpDhbAo0BmMILHbXFA50e/jhJGl7/VQo6BT9k3jcydSE0AJ1BKsQoeu99WZsk2MF4EAAABFQZ+zRRUsK/8AiwZkQi6DAPWuREHw+hvUjTsoWE0C8GMkVUX/QPTJfKRhAp4w62UqMmXWBbp8D77HY36jC2XfQtC+/ouAAAAAKwGf0nRCfwABFWppbQNU44X37p1PKvVzHfV26SPYIBRgItA+CmMAd8AAekAAAAAtAZ/UakJ/AAEV3BxpP67OxMRWyc+QbRMDsn/rY9Tu19OTuu78RCN2T7Vnc4FlAAAAaEGb2UmoQWyZTAhv//6nhAAAAwAL6a7WOIIA3oIqFtqk3j2wxhWEc8AldZI2klBj3X5REV6rD2Ag6FeKCQSo00CSirY0nvqYvBSMs+a2NQmaBM6tsbJahM+eYM2xVbg71cisFec+Bnm4AAAAM0Gf90UVLCv/AIsGZEIugwD1rkRB8Pob1I07KFhNAvBjJFVF/0Fs+Kt5jER0HhshIOoFlQAAACcBnhZ0Qn8AARVqaW0DVOOF9+6dTyr1cx31dukj0ElUJxENnA8ApIEAAAAnAZ4YakJ/AAEV3BxpP67OxMRWyc+QbRMDsn/rSGoGDX6gK1fsgOmAAAAJDmWIggAEP/73gb8yy2Q/qslx+ed9LKzPPOQ8cl2JrrjQAAADAAADAAFHh7Xrjd2DW0nQAAAawAOkH8F5GDHQI+PkcI6BwESLwC3FfYOHX0gAJ0mRRKkBIuti4JYTVVEa78TM0k6xSo4Hpmwa6wzl14y1+nt6gRafobHpIkIu/M3/kZ9I4p3VnP/RcUKmu3DyvbB81MpoX/GdqByTSKcES4C6X1hrwDtCdrYnnVmrQt7f1Lz0z0ow6LlE6Re+/aqWvjl2Vz7p5ylUAY4IIjIF8ecMrUNsSw3Fjt9NNoP6jPL8+aKocWPlo7/nBV2kNzXOw+HNPR1W/Alxbr+R8eEnqGHTRnjuaA0QDuNOn+vqJzdfQwMPA8PWuGVCcDej1I7uh5p1z/x9sVvCt4Z24g8K8W0tDBwZMoHjdGYURHKX/aJlgibHBDEIrTl0FQAGUXmG58LCSVK57aQ9PH4Oyn0rhLIiwpavy+J/NHLjBKVYST80pMaKGy3fJiAobfZ/JcpiNsJR0yp8+f4mD7MauIARL21+z26Wmy2e2V/DinSCQVtS55JlTERZugUDr/El8d5eiEtOFpSng2j8SlPkAxoObn8uTf6dLOGpE0hvON51r3Fy+bdEeXFblRpLsgiMyq0j0WMJf3JEEUxSTB/590Zt1ZSNDwqIGl1aKAMC8pXSCUVPo+0Hdy9wyns0opiLSGx8SO15P9k1pu6XiTVbC8Hfo7SsPKsoQtrPE2+Oi+OnKaKeamo2J768Di0vV8qtxIKWTMKMOH+jy+GwCj07xIBb4hBi8LgUY1NNFIylSoLBkzt4V4U9m1l7tv8a5UKX2Y/Z/6gclv9BMOttQPUMml5fFaEGcYEqueDeOOITd9ry3+0JWYeuONeUj6xys0QpEr2ShrnfOXQa1O/heCVbzLegzDoN5UJZPWuJN3nbfVztj61KizEymezzct8rcvDuxBk9OygwSS1G32wBndUJUki/e7Sf0TzjtCjHafd08G5rOdINOLdfxqAD+sxGtGZOnWpVx4zw/f/5YKGdpvUIdfzrtUcQfqjaJC/May5fy+kdYBmcRXAd9et0SSAIg3sLWjHaZdiuFHJRd0CXcqYzNVDEV2z39W2qQhY5/YWxHwtTKh2WqGfC/ew6kg0nvvSQpNtoF/jq2C5TcAIykCNRhxupME5NZyYNsUtmP98F8aY21ZnlSIgaqy2vml/cBlixhyDe2bHbCm6Oqpl6Xl/hmUGqexYCvA1ht235wUorIm2VUPKmkJ7P2PooQSOFop8rwDChMJ96B2V8xfZFtkMoxLcIdQ3RrWztK/PcPsX6aWcemdRK80x1uUthiAwn8wlURkZp7ssJxfYl9N7bpeA+JGfWAMTxJAJUztLr+z5562OV/9EOUmGiEovauMCN6LevKfpftT1L8L8D6ELymye8Tzo4Vp4AHlTnOOQI40pLKzkPPp2nqP44/OsDlz6twpvlQ5urFsqNKqylfa+v/YT6u1CWaDLqzKBfg9WI+7G4JCSc7qqZTw6f1PNrOM2LZUU653ET7cTrlRotJ/SDONSeBI3BH+JFRbvF0Fk03GhSfgfE3Clu0dDILLZolWJAhlHdRROdFE5zDn6n3tZDoUtDGMHwKq4rOgm4tZbaO2flPUHfqWaYwjfNcsqGhqPQV1ZxWxSSHMLwNCIruZ3h1WPtH3pvsV1CsrLrlvEBuTJFVmnLEd3N8lvoNtX7MPJxVH2QJFUkoQZ0m8oyFlmlfoHi1/2NvbFKGvKMI6c/P5EyTsvrsXqBCdoSgle34aQaKccT8gZ8k1RUvEufBWlz+yg+Wo2Tqf0hL2DeBBNDh/0lKzml4forpv+NTbb1LxTnzmppcMX6wOQDArDz72hZFcRU/zVgwl/b/MJ8Iyc9ZqH68A/rkQptRGsqOdd+xjSdRasNvZfvhe+BhsF7Hi98kT/rBWV8QawN8QZD4tCPqokueMGJGxN9CiCVRlAVqJNm9NsvHoh75NRPmnELDYZQUGKxep89pmBoVPunq7fMqJtCxvEj+lxPU291LePqjGMOKi3LWkvYe+xU+ibf//722/c/M9HMBrhp/U3Xqtgt2gH8HTSZZh73gocILmpgdD7/AOI60ESos+UgpnGtudXxYp0flRcn52zVaV3tBUHXkItBQnDTYzMt2DdlsrfSUb49xMxgiGoOPYv7W6gY6aQV63aRrR8sVTtVR9S82fSh+qE96FGk9g3raM4dXsD6Ss72KIDIyd1J7S1JKJed4L2sLbMY3BAZhfsUJwxh3IHwhEfChuPbJSZZhRfExnuxMH48GRiXJ+ZUhEb6EfH2mhMIFr1ONiRqwFoRMjlzyBHBJtkeiA3ltjIkO+SmjQ9eeiAlAv6GJSllIughK8ME0xGRvNkIAwwP4MHnoRH+wM2nBYOte0Dt54AnXHjRQoCr/XomvKPfUj0b10Kjf0K7Zg8WEJvIonJ0Yx4uyuR18PgBF6x0dGsnqT7k4cQKbDrk0qEiktEfYtDb/GFqzzp82w69PhJ2yScuW09zOUVMy3l/8f/qQmVKbmISxxkzmbP+yQXvRrHtQ23qIipwpHT6btbmiJndYI7MPmxwrl3Upky2rsucgyVcf6Hm4YJnNEOi+xAsz43mB04sAejsAA03NbqFW2c8JS1rTtZOhL3PfXtAww0OajaBFnv0fBiZxa+tNjmKrv8NC9L3t7TP2/hSy/bmP4N3HFNWTiQSlTHgLd3eJyayzhohfq95Sh3FljERBuBhsBY0/IPKn0ynDt+jjmFQnjFndC9RDakV6B/76miQe+ko7GBDVOhpaSdehdMeEtfcpSg4Zwcc5evT+Ak+YAbwL+D14VB1uPLQEUgtnKdZ0aIel7ZYugvLR6YFsVOsPE0kO1NpbmnXosr4f4VGjMPiPYmwLimBw66LdsT6KP6HWA2iynGWVk43Rk7SRHV3rigbauWknKo/qi4e0oOFpWFaOnUDy3FTGerelRxIiYUIWkmw8B7lyhysVsI6EHRlHT3PTa37IylZIEaC4eZntFNWmZUIQABX76NDpGnGlgWNH5SHCMQ5rlDwCxG49ncimyh7xwMw8okhCtNQPrQPAGz2sAAjADahAAAASkGaJGxDf/6nhAAAAwALoQW2ADfVce2B7bC82+5ihgrWx79i6Nnhm9XNBtrV1cH+mVq+UQrCt74mgvj7Ewje76hMryD9QpQofK5cAAAAHUGeQniE/wAAAwAGSFN1OovY2Xur1FBafysG4G9BAAAAGwGeYXRCfwAAAwAHbP1XBob8ZI8zwmyXfsAK2QAAABYBnmNqQn8AAAMAAP48hR10RP8QQgAkAAAAG0GaaEmoQWiZTAhv//6nhAAAAwAAM3hvwY8Y+AAAABlBnoZFESwr/wAAAwAB0K9M+6geLMe2fguBAAAAFAGepXRCfwAAAwAA/ez5RWaPl/zAAAAAFAGep2pCfwAAAwAA/jyFHXRE928xAAAAGEGarEmoQWyZTAhv//6nhAAAAwAAAwDUgAAAABlBnspFFSwr/wAAAwAB0K9M+6geLMe2fguBAAAAFAGe6XRCfwAAAwAA/ez5RWaPl/zBAAAAFAGe62pCfwAAAwAA/jyFHXRE928xAAAAGEGa8EmoQWyZTAhv//6nhAAAAwAAAwDUgQAAABlBnw5FFSwr/wAAAwAB0K9M+6geLMe2fguAAAAAFAGfLXRCfwAAAwAA/ez5RWaPl/zAAAAAFAGfL2pCfwAAAwAA/jyFHXRE928xAAAAF0GbNEmoQWyZTAhn//6eEAAAAwAAAwM+AAAAGUGfUkUVLCv/AAADAAHQr0z7qB4sx7Z+C4AAAAAUAZ9xdEJ/AAADAAD97PlFZo+X/MEAAAAUAZ9zakJ/AAADAAD+PIUddET3bzEAAAAXQZt4SahBbJlMCE///fEAAAMAAAMAHpEAAAAZQZ+WRRUsK/8AAAMAAdCvTPuoHizHtn4LgAAAABQBn7V0Qn8AAAMAAP3s+UVmj5f8wAAAABQBn7dqQn8AAAMAAP48hR10RPdvMQAAD9ptb292AAAAbG12aGQAAAAAAAAAAAAAAAAAAAPoAAAjzwABAAABAAAAAAAAAAAAAAAAAQAAAAAAAAAAAAAAAAAAAAEAAAAAAAAAAAAAAAAAAEAAAAAAAAAAAAAAAAAAAAAAAAAAAAAAAAAAAAAAAAACAAAPBHRyYWsAAABcdGtoZAAAAAMAAAAAAAAAAAAAAAEAAAAAAAAjzwAAAAAAAAAAAAAAAAAAAAAAAQAAAAAAAAAAAAAAAAAAAAEAAAAAAAAAAAAAAAAAAEAAAAACYAAAAZAAAAAAACRlZHRzAAAAHGVsc3QAAAAAAAAAAQAAI88AAAQAAAEAAAAADnxtZGlhAAAAIG1kaGQAAAAAAAAAAAAAAAAAADwAAAImAFXEAAAAAAAtaGRscgAAAAAAAAAAdmlkZQAAAAAAAAAAAAAAAFZpZGVvSGFuZGxlcgAAAA4nbWluZgAAABR2bWhkAAAAAQAAAAAAAAAAAAAAJGRpbmYAAAAcZHJlZgAAAAAAAAABAAAADHVybCAAAAABAAAN53N0YmwAAACXc3RzZAAAAAAAAAABAAAAh2F2YzEAAAAAAAAAAQAAAAAAAAAAAAAAAAAAAAACYAGQAEgAAABIAAAAAAAAAAEAAAAAAAAAAAAAAAAAAAAAAAAAAAAAAAAAAAAAAAAAAAAY//8AAAAxYXZjQwFkAB7/4QAYZ2QAHqzZQJgzoQAAAwABAAADADwPFi2WAQAGaOvjyyLAAAAAGHN0dHMAAAAAAAAAAQAAARMAAAIAAAAAGHN0c3MAAAAAAAAAAgAAAAEAAAD7AAAIiGN0dHMAAAAAAAABDwAAAAEAAAQAAAAAAQAACAAAAAACAAACAAAAAAEAAAoAAAAAAQAABAAAAAABAAAAAAAAAAEAAAIAAAAAAQAABAAAAAABAAAIAAAAAAIAAAIAAAAAAQAACAAAAAACAAACAAAAAAEAAAoAAAAAAQAABAAAAAABAAAAAAAAAAEAAAIAAAAAAQAABgAAAAABAAACAAAAAAEAAAoAAAAAAQAABAAAAAABAAAAAAAAAAEAAAIAAAAAAQAACgAAAAABAAAEAAAAAAEAAAAAAAAAAQAAAgAAAAABAAAKAAAAAAEAAAQAAAAAAQAAAAAAAAABAAACAAAAAAEAAAoAAAAAAQAABAAAAAABAAAAAAAAAAEAAAIAAAAAAQAACgAAAAABAAAEAAAAAAEAAAAAAAAAAQAAAgAAAAABAAAKAAAAAAEAAAQAAAAAAQAAAAAAAAABAAACAAAAAAEAAAYAAAAAAQAAAgAAAAABAAAGAAAAAAEAAAIAAAAAAQAACgAAAAABAAAEAAAAAAEAAAAAAAAAAQAAAgAAAAABAAAKAAAAAAEAAAQAAAAAAQAAAAAAAAABAAACAAAAAAEAAAoAAAAAAQAABAAAAAABAAAAAAAAAAEAAAIAAAAAAQAACgAAAAABAAAEAAAAAAEAAAAAAAAAAQAAAgAAAAABAAAKAAAAAAEAAAQAAAAAAQAAAAAAAAABAAACAAAAAAEAAAoAAAAAAQAABAAAAAABAAAAAAAAAAEAAAIAAAAAAQAACgAAAAABAAAEAAAAAAEAAAAAAAAAAQAAAgAAAAABAAAKAAAAAAEAAAQAAAAAAQAAAAAAAAABAAACAAAAAAEAAAgAAAAAAgAAAgAAAAABAAAKAAAAAAEAAAQAAAAAAQAAAAAAAAABAAACAAAAAAEAAAoAAAAAAQAABAAAAAABAAAAAAAAAAEAAAIAAAAAAQAABgAAAAABAAACAAAAAAEAAAoAAAAAAQAABAAAAAABAAAAAAAAAAEAAAIAAAAAAQAACgAAAAABAAAEAAAAAAEAAAAAAAAAAQAAAgAAAAABAAAKAAAAAAEAAAQAAAAAAQAAAAAAAAABAAACAAAAAAEAAAoAAAAAAQAABAAAAAABAAAAAAAAAAEAAAIAAAAAAQAACgAAAAABAAAEAAAAAAEAAAAAAAAAAQAAAgAAAAABAAAKAAAAAAEAAAQAAAAAAQAAAAAAAAABAAACAAAAAAEAAAoAAAAAAQAABAAAAAABAAAAAAAAAAEAAAIAAAAAAQAACgAAAAABAAAEAAAAAAEAAAAAAAAAAQAAAgAAAAABAAAKAAAAAAEAAAQAAAAAAQAAAAAAAAABAAACAAAAAAEAAAoAAAAAAQAABAAAAAABAAAAAAAAAAEAAAIAAAAAAQAACgAAAAABAAAEAAAAAAEAAAAAAAAAAQAAAgAAAAABAAAKAAAAAAEAAAQAAAAAAQAAAAAAAAABAAACAAAAAAEAAAoAAAAAAQAABAAAAAABAAAAAAAAAAEAAAIAAAAAAQAACgAAAAABAAAEAAAAAAEAAAAAAAAAAQAAAgAAAAABAAAKAAAAAAEAAAQAAAAAAQAAAAAAAAABAAACAAAAAAEAAAoAAAAAAQAABAAAAAABAAAAAAAAAAEAAAIAAAAAAQAACgAAAAABAAAEAAAAAAEAAAAAAAAAAQAAAgAAAAABAAAKAAAAAAEAAAQAAAAAAQAAAAAAAAABAAACAAAAAAEAAAoAAAAAAQAABAAAAAABAAAAAAAAAAEAAAIAAAAAAQAACgAAAAABAAAEAAAAAAEAAAAAAAAAAQAAAgAAAAABAAAKAAAAAAEAAAQAAAAAAQAAAAAAAAABAAACAAAAAAEAAAoAAAAAAQAABAAAAAABAAAAAAAAAAEAAAIAAAAAAQAACgAAAAABAAAEAAAAAAEAAAAAAAAAAQAAAgAAAAABAAAKAAAAAAEAAAQAAAAAAQAAAAAAAAABAAACAAAAAAEAAAoAAAAAAQAABAAAAAABAAAAAAAAAAEAAAIAAAAAAQAACgAAAAABAAAEAAAAAAEAAAAAAAAAAQAAAgAAAAABAAAKAAAAAAEAAAQAAAAAAQAAAAAAAAABAAACAAAAAAEAAAoAAAAAAQAABAAAAAABAAAAAAAAAAEAAAIAAAAAAQAACgAAAAABAAAEAAAAAAEAAAAAAAAAAQAAAgAAAAABAAAKAAAAAAEAAAQAAAAAAQAAAAAAAAABAAACAAAAAAEAAAoAAAAAAQAABAAAAAABAAAAAAAAAAEAAAIAAAAAAQAACgAAAAABAAAEAAAAAAEAAAAAAAAAAQAAAgAAAAABAAAKAAAAAAEAAAQAAAAAAQAAAAAAAAABAAACAAAAAAEAAAoAAAAAAQAABAAAAAABAAAAAAAAAAEAAAIAAAAAAQAACgAAAAABAAAEAAAAAAEAAAAAAAAAAQAAAgAAAAABAAAKAAAAAAEAAAQAAAAAAQAAAAAAAAABAAACAAAAAAEAAAoAAAAAAQAABAAAAAABAAAAAAAAAAEAAAIAAAAAAQAACgAAAAABAAAEAAAAAAEAAAAAAAAAAQAAAgAAAAABAAAKAAAAAAEAAAQAAAAAAQAAAAAAAAABAAACAAAAAAEAAAQAAAAAAQAACgAAAAABAAAEAAAAAAEAAAAAAAAAAQAAAgAAAAABAAAKAAAAAAEAAAQAAAAAAQAAAAAAAAABAAACAAAAAAEAAAoAAAAAAQAABAAAAAABAAAAAAAAAAEAAAIAAAAAAQAACgAAAAABAAAEAAAAAAEAAAAAAAAAAQAAAgAAAAABAAAKAAAAAAEAAAQAAAAAAQAAAAAAAAABAAACAAAAAAEAAAoAAAAAAQAABAAAAAABAAAAAAAAAAEAAAIAAAAAHHN0c2MAAAAAAAAAAQAAAAEAAAETAAAAAQAABGBzdHN6AAAAAAAAAAAAAAETAAAKFAAAATwAAACKAAAAWwAAAPkAAAByAAAAQwAAAEwAAAD1AAABHwAAAFcAAABfAAAAugAAAHgAAABMAAABLwAAAG0AAABGAAAAeQAAAXQAAACoAAABbQAAAPMAAACpAAAA9wAAAWEAAACyAAAA1QAAAKwAAAFMAAAAqgAAAMMAAAC1AAABewAAAMEAAACaAAAAbAAAATsAAADOAAAAogAAAMwAAAEZAAAA0gAAALMAAADhAAABIgAAAMIAAAErAAAA0gAAAWcAAADWAAAAzwAAAOoAAAFYAAAA1wAAAOcAAADHAAABAAAAANcAAADgAAAAwwAAAREAAACmAAAAvQAAAM4AAAEJAAAAuwAAALQAAACnAAABHgAAALIAAAB6AAAAfQAAAOwAAABwAAAAbQAAAEEAAACzAAAAZQAAAEYAAABNAAAAoAAAAF8AAABGAAABSwAAAGgAAAA3AAAAcgAAAW8AAADCAAAAvgAAALgAAADrAAAAnAAAATEAAADRAAAAggAAAKoAAAELAAAAywAAAMUAAACuAAABLwAAANQAAADKAAAAqAAAAPsAAAC6AAAAqgAAAJgAAAEAAAAAoQAAALUAAACbAAABPAAAALUAAACoAAAA6gAAATsAAACyAAAA7wAAANEAAAFjAAAA3wAAAIgAAADeAAAA+gAAANoAAACmAAAAfwAAAOMAAADVAAAAnwAAAJ8AAAE+AAAAxQAAAIwAAACbAAABBQAAALwAAAC9AAAApgAAAMIAAADFAAAAlQAAAJcAAAEhAAAA6gAAAKYAAAChAAABJQAAAMoAAACpAAAAlAAAAY0AAAD2AAAApAAAAKgAAAGaAAAA7wAAAMMAAADCAAABTgAAAKAAAACiAAAAowAAARcAAACfAAAAigAAAG4AAAEiAAAAnAAAAGcAAABqAAABIQAAAKIAAACaAAAAiwAAAQUAAACTAAAAiwAAAIMAAADpAAAAiAAAAFYAAAB7AAAA4AAAAKEAAABkAAAAhAAAAOcAAACLAAAAXgAAAGkAAADaAAAAnwAAAEsAAAB1AAAA0gAAAI0AAAB5AAAAaQAAAM0AAAB+AAAASwAAAFQAAAEDAAAAfwAAAE4AAABrAAABAgAAAI0AAABgAAAAbgAAAOcAAACVAAAAbwAAAGIAAAEeAAAAiwAAAEYAAABeAAABBwAAAJIAAACPAAAAawAAATsAAACkAAAAUgAAAIoAAAErAAAAsgAAAGkAAACNAAABbgAAAKsAAABmAAAAkwAAARYAAAB9AAAAigAAAGMAAAD0AAAASQAAAC8AAAAxAAAAbAAAADcAAAArAAAAKwAACRIAAABOAAAAIQAAAB8AAAAaAAAAHwAAAB0AAAAYAAAAGAAAABwAAAAdAAAAGAAAABgAAAAcAAAAHQAAABgAAAAYAAAAGwAAAB0AAAAYAAAAGAAAABsAAAAdAAAAGAAAABgAAAAUc3RjbwAAAAAAAAABAAAAMAAAAGJ1ZHRhAAAAWm1ldGEAAAAAAAAAIWhkbHIAAAAAAAAAAG1kaXJhcHBsAAAAAAAAAAAAAAAALWlsc3QAAAAlqXRvbwAAAB1kYXRhAAAAAQAAAABMYXZmNTguMjkuMTAw\" type=\"video/mp4\" />\n",
              "             </video>"
            ]
          },
          "metadata": {}
        }
      ]
    }
  ]
}